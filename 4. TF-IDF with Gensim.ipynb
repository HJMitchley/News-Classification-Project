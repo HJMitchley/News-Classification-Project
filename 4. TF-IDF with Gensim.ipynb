{
 "cells": [
  {
   "cell_type": "markdown",
   "id": "18aef592",
   "metadata": {},
   "source": [
    "## TF-IDF for training data"
   ]
  },
  {
   "cell_type": "code",
   "execution_count": 20,
   "id": "1987b051",
   "metadata": {},
   "outputs": [],
   "source": [
    "import numpy as np\n",
    "import gensim.downloader as api\n",
    "from gensim.models import TfidfModel\n",
    "from gensim.corpora import Dictionary"
   ]
  },
  {
   "cell_type": "code",
   "execution_count": null,
   "id": "54b33eb9",
   "metadata": {},
   "outputs": [],
   "source": [
    "news_train = pd.read_csv(\"news_train.csv\")"
   ]
  },
  {
   "cell_type": "code",
   "execution_count": 24,
   "id": "e33d2aff",
   "metadata": {},
   "outputs": [],
   "source": [
    "train_tokenized = [simple_preprocess(line) for line in news_train['cleaned_words']]\n",
    "train_dict = corpora.Dictionary()\n",
    "train_corpus = [train_dict.doc2bow(line, allow_update=True) for line in train_tokenized]"
   ]
  },
  {
   "cell_type": "code",
   "execution_count": 25,
   "id": "6759404f",
   "metadata": {},
   "outputs": [],
   "source": [
    "train_tfidf = TfidfModel(train_corpus, smartirs='ntc')"
   ]
  },
  {
   "cell_type": "code",
   "execution_count": 26,
   "id": "93441f87",
   "metadata": {},
   "outputs": [],
   "source": [
    " # apply model to the first corpus document\n",
    "vector = train_tfidf[train_corpus[0]] \n",
    "\n",
    "#etc for other docs in corpus"
   ]
  },
  {
   "cell_type": "code",
   "execution_count": 27,
   "id": "dd8563f7",
   "metadata": {},
   "outputs": [
    {
     "data": {
      "text/plain": [
       "[(0, 0.21744169315184333),\n",
       " (1, 0.3618448148680886),\n",
       " (2, 0.21802640014757815),\n",
       " (3, 0.2238970949090863),\n",
       " (4, 0.19056966589632973),\n",
       " (5, 0.25140181801266853),\n",
       " (6, 0.13174885342746356),\n",
       " (7, 0.26769462667343497),\n",
       " (8, 0.17802583109395193),\n",
       " (9, 0.17648047015395238),\n",
       " (10, 0.27287366056311535),\n",
       " (11, 0.3298001145213803),\n",
       " (12, 0.2366594716946781),\n",
       " (13, 0.28469782194419974),\n",
       " (14, 0.3904573166949825)]"
      ]
     },
     "execution_count": 27,
     "metadata": {},
     "output_type": "execute_result"
    }
   ],
   "source": [
    "vector"
   ]
  },
  {
   "cell_type": "markdown",
   "id": "3cb5e5ef",
   "metadata": {},
   "source": [
    "## TF-IDF for test data\n"
   ]
  },
  {
   "cell_type": "code",
   "execution_count": null,
   "id": "eec46d34",
   "metadata": {},
   "outputs": [],
   "source": [
    "news_test = pd.read_csv(\"news_test.csv\")"
   ]
  },
  {
   "cell_type": "code",
   "execution_count": 29,
   "id": "216c917e",
   "metadata": {},
   "outputs": [],
   "source": [
    "test_tokenized = [simple_preprocess(line) for line in news_test['cleaned_words']]\n",
    "test_dict = corpora.Dictionary()\n",
    "test_corpus = [test_dict.doc2bow(line, allow_update=True) for line in test_tokenized]"
   ]
  },
  {
   "cell_type": "code",
   "execution_count": 28,
   "id": "d5cf66c5",
   "metadata": {},
   "outputs": [],
   "source": [
    "## Need to do TF-IDF  for test data, BUT we dont want to use the IDF for the test data - the relavant IDF is the training IDF"
   ]
  },
  {
   "cell_type": "code",
   "execution_count": null,
   "id": "2097c5f1",
   "metadata": {},
   "outputs": [],
   "source": []
  }
 ],
 "metadata": {
  "kernelspec": {
   "display_name": "Python 3 (ipykernel)",
   "language": "python",
   "name": "python3"
  },
  "language_info": {
   "codemirror_mode": {
    "name": "ipython",
    "version": 3
   },
   "file_extension": ".py",
   "mimetype": "text/x-python",
   "name": "python",
   "nbconvert_exporter": "python",
   "pygments_lexer": "ipython3",
   "version": "3.9.12"
  }
 },
 "nbformat": 4,
 "nbformat_minor": 5
}
