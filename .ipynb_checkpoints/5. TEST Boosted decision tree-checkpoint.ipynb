{
 "cells": [
  {
   "cell_type": "code",
   "execution_count": 4,
   "id": "75d544de",
   "metadata": {},
   "outputs": [],
   "source": [
    "## For data handling\n",
    "import pandas as pd\n",
    "import numpy as np\n",
    "\n",
    "## For plotting\n",
    "import matplotlib.pyplot as plt\n",
    "from seaborn import set_style\n",
    "\n",
    "## This sets the plot style\n",
    "## to have a grid on a white background\n",
    "set_style(\"whitegrid\")"
   ]
  },
  {
   "cell_type": "code",
   "execution_count": 5,
   "id": "a19fe6df",
   "metadata": {},
   "outputs": [],
   "source": [
    "import xgboost"
   ]
  },
  {
   "cell_type": "code",
   "execution_count": 6,
   "id": "aa0c711b",
   "metadata": {},
   "outputs": [
    {
     "data": {
      "text/plain": [
       "'1.7.1'"
      ]
     },
     "execution_count": 6,
     "metadata": {},
     "output_type": "execute_result"
    }
   ],
   "source": [
    "xgboost.__version__"
   ]
  },
  {
   "cell_type": "code",
   "execution_count": 8,
   "id": "e802181a",
   "metadata": {},
   "outputs": [],
   "source": [
    "news = pd.read_pickle(\"C:/Users/HJMit/Desktop/train_PCA_cols.pkl\")"
   ]
  },
  {
   "cell_type": "code",
   "execution_count": 12,
   "id": "490a6343",
   "metadata": {},
   "outputs": [],
   "source": [
    "news.drop('Unnamed: 0', axis=1, inplace=True)\n",
    "news.drop('index', axis=1, inplace=True)"
   ]
  },
  {
   "cell_type": "code",
   "execution_count": 41,
   "id": "90dc186f",
   "metadata": {},
   "outputs": [],
   "source": [
    "### One-hot encoding for category cols\n",
    "news['politics'] = 0\n",
    "news.loc[news.category_col=='POLITICS', 'politics']=1\n",
    "\n",
    "news['wellness'] = 0\n",
    "news.loc[news.category_col=='WELLNESS', 'wellness']=1\n",
    "\n",
    "news['entertainment'] = 0\n",
    "news.loc[news.category_col=='ENTERTAINMENT', 'entertainment']=1\n",
    "\n",
    "news['parenting'] = 0\n",
    "news.loc[news.category_col=='PARENTING', 'parenting']=1\n",
    "\n",
    "news['style'] = 0\n",
    "news.loc[news.category_col=='STYLE & BEAUTY', 'style']=1\n",
    "\n",
    "news['travel'] = 0\n",
    "news.loc[news.category_col=='TRAVEL', 'travel']=1\n",
    "\n",
    "news['food'] = 0\n",
    "news.loc[news.category_col=='FOOD & DRINK', 'food']=1\n",
    "\n",
    "news['queer_voices'] = 0\n",
    "news.loc[news.category_col=='QUEER VOICES', 'queer_voices']=1\n",
    "\n",
    "news['business'] = 0\n",
    "news.loc[news.category_col=='BUSINESS', 'business']=1\n",
    "\n",
    "news['sports'] = 0\n",
    "news.loc[news.category_col=='SPORTS', 'sports']=1\n",
    "\n",
    "news['black_voices'] = 0\n",
    "news.loc[news.category_col=='BLACK VOICES', 'black_voices']=1\n",
    "\n",
    "## missing category is World news"
   ]
  },
  {
   "cell_type": "code",
   "execution_count": 52,
   "id": "0c9a4ae3",
   "metadata": {},
   "outputs": [
    {
     "data": {
      "text/plain": [
       "Index(['politics', 'wellness', 'entertainment', 'parenting', 'style', 'travel',\n",
       "       'food', 'queer_voices', 'business', 'sports', 'black_voices'],\n",
       "      dtype='object')"
      ]
     },
     "execution_count": 52,
     "metadata": {},
     "output_type": "execute_result"
    }
   ],
   "source": [
    "cat_cols = news.columns[-11:]\n",
    "cat_cols"
   ]
  },
  {
   "cell_type": "code",
   "execution_count": 53,
   "id": "14ca2ba4",
   "metadata": {},
   "outputs": [
    {
     "data": {
      "text/plain": [
       "Index([   0,    1,    2,    3,    4,    5,    6,    7,    8,    9,\n",
       "       ...\n",
       "       1390, 1391, 1392, 1393, 1394, 1395, 1396, 1397, 1398, 1399],\n",
       "      dtype='object', length=1400)"
      ]
     },
     "execution_count": 53,
     "metadata": {},
     "output_type": "execute_result"
    }
   ],
   "source": [
    "### Columns which only have PCA Cols\n",
    "pca_cols  = news.columns[9:-11]\n",
    "pca_cols"
   ]
  },
  {
   "cell_type": "code",
   "execution_count": 54,
   "id": "d41cc1e2",
   "metadata": {},
   "outputs": [],
   "source": [
    "## Train_test_split\n",
    "from sklearn.model_selection import train_test_split\n",
    "\n",
    "X_train, X_ho, y_train, y_ho = train_test_split(news[pca_cols],news[cat_cols],\n",
    "                                         random_state = 546,\n",
    "                                         shuffle = True,\n",
    "                                         test_size = .2,\n",
    "                                         stratify = news['category_col'])"
   ]
  },
  {
   "cell_type": "code",
   "execution_count": null,
   "id": "e266b37f",
   "metadata": {},
   "outputs": [],
   "source": [
    "\n",
    "### learning_rate=.1, max_depth=12, n_estimators=200\n",
    "xgb_cl = xgboost.XGBClassifier(learning_rate=.1,\n",
    "                                   max_depth=12,\n",
    "                                   n_estimators=200)\n",
    "\n",
    "\n",
    "## fit it\n",
    "xgb_cl.fit(X_train, y_train, eval_set=[(X_ho, y_ho)])\n",
    "\n"
   ]
  }
 ],
 "metadata": {
  "kernelspec": {
   "display_name": "Python 3 (ipykernel)",
   "language": "python",
   "name": "python3"
  },
  "language_info": {
   "codemirror_mode": {
    "name": "ipython",
    "version": 3
   },
   "file_extension": ".py",
   "mimetype": "text/x-python",
   "name": "python",
   "nbconvert_exporter": "python",
   "pygments_lexer": "ipython3",
   "version": "3.9.12"
  }
 },
 "nbformat": 4,
 "nbformat_minor": 5
}
