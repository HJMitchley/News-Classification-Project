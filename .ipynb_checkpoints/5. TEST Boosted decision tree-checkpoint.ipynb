{
 "cells": [
  {
   "cell_type": "code",
   "execution_count": 4,
   "id": "75d544de",
   "metadata": {},
   "outputs": [],
   "source": [
    "## For data handling\n",
    "import pandas as pd\n",
    "import numpy as np\n",
    "\n",
    "## For plotting\n",
    "import matplotlib.pyplot as plt\n",
    "from seaborn import set_style\n",
    "\n",
    "## This sets the plot style\n",
    "## to have a grid on a white background\n",
    "set_style(\"whitegrid\")"
   ]
  },
  {
   "cell_type": "code",
   "execution_count": 5,
   "id": "a19fe6df",
   "metadata": {},
   "outputs": [],
   "source": [
    "import xgboost"
   ]
  },
  {
   "cell_type": "code",
   "execution_count": 6,
   "id": "aa0c711b",
   "metadata": {},
   "outputs": [
    {
     "data": {
      "text/plain": [
       "'1.7.1'"
      ]
     },
     "execution_count": 6,
     "metadata": {},
     "output_type": "execute_result"
    }
   ],
   "source": [
    "xgboost.__version__"
   ]
  },
  {
   "cell_type": "code",
   "execution_count": 6,
   "id": "af7cfceb",
   "metadata": {},
   "outputs": [],
   "source": [
    "news = pd.read_pickle(\"C:/Users/HJMit/Desktop/train_PCA_cols.pkl\")"
   ]
  },
  {
   "cell_type": "code",
   "execution_count": 4,
   "id": "ec57e6e4",
   "metadata": {},
   "outputs": [
    {
     "data": {
      "text/html": [
       "<div>\n",
       "<style scoped>\n",
       "    .dataframe tbody tr th:only-of-type {\n",
       "        vertical-align: middle;\n",
       "    }\n",
       "\n",
       "    .dataframe tbody tr th {\n",
       "        vertical-align: top;\n",
       "    }\n",
       "\n",
       "    .dataframe thead th {\n",
       "        text-align: right;\n",
       "    }\n",
       "</style>\n",
       "<table border=\"1\" class=\"dataframe\">\n",
       "  <thead>\n",
       "    <tr style=\"text-align: right;\">\n",
       "      <th></th>\n",
       "      <th>index</th>\n",
       "      <th>Unnamed: 0</th>\n",
       "      <th>link_col</th>\n",
       "      <th>headline_col</th>\n",
       "      <th>category_col</th>\n",
       "      <th>short_description</th>\n",
       "      <th>authors_col</th>\n",
       "      <th>date_col</th>\n",
       "      <th>headline_cleaned</th>\n",
       "      <th>short_description_cleaned</th>\n",
       "      <th>...</th>\n",
       "      <th>1390</th>\n",
       "      <th>1391</th>\n",
       "      <th>1392</th>\n",
       "      <th>1393</th>\n",
       "      <th>1394</th>\n",
       "      <th>1395</th>\n",
       "      <th>1396</th>\n",
       "      <th>1397</th>\n",
       "      <th>1398</th>\n",
       "      <th>1399</th>\n",
       "    </tr>\n",
       "  </thead>\n",
       "  <tbody>\n",
       "    <tr>\n",
       "      <th>0</th>\n",
       "      <td>0</td>\n",
       "      <td>0</td>\n",
       "      <td>https://www.huffingtonpost.com/entry/blgt-usas...</td>\n",
       "      <td>BLgT USA's Latest Pit Stop On Its LGBTQ Equali...</td>\n",
       "      <td>QUEER VOICES</td>\n",
       "      <td>The latest updates from the 50-state food equa...</td>\n",
       "      <td>James Michael Nichols</td>\n",
       "      <td>2015-07-13</td>\n",
       "      <td>blgt usa late pit stop lgbtq equality tour south</td>\n",
       "      <td>late update 50 state food equality tour</td>\n",
       "      <td>...</td>\n",
       "      <td>0.025050</td>\n",
       "      <td>-0.018328</td>\n",
       "      <td>-0.003255</td>\n",
       "      <td>0.006662</td>\n",
       "      <td>-0.001935</td>\n",
       "      <td>-0.002674</td>\n",
       "      <td>-0.002762</td>\n",
       "      <td>-0.014888</td>\n",
       "      <td>0.010297</td>\n",
       "      <td>-0.007270</td>\n",
       "    </tr>\n",
       "    <tr>\n",
       "      <th>1</th>\n",
       "      <td>1</td>\n",
       "      <td>1</td>\n",
       "      <td>https://www.huffingtonpost.com/entry/let-go_us...</td>\n",
       "      <td>Legacy: Learning to Let Go</td>\n",
       "      <td>WELLNESS</td>\n",
       "      <td>September brings its newness. Energy is high a...</td>\n",
       "      <td>Rachael Freed, Contributor\\r\\ncreator of life ...</td>\n",
       "      <td>2013-09-06</td>\n",
       "      <td>legacy learn let go</td>\n",
       "      <td>september bring newness energy high teacher ch...</td>\n",
       "      <td>...</td>\n",
       "      <td>0.012558</td>\n",
       "      <td>-0.005345</td>\n",
       "      <td>0.010755</td>\n",
       "      <td>0.003383</td>\n",
       "      <td>-0.007317</td>\n",
       "      <td>-0.022330</td>\n",
       "      <td>0.006550</td>\n",
       "      <td>0.006965</td>\n",
       "      <td>-0.005208</td>\n",
       "      <td>-0.004315</td>\n",
       "    </tr>\n",
       "    <tr>\n",
       "      <th>2</th>\n",
       "      <td>2</td>\n",
       "      <td>2</td>\n",
       "      <td>https://www.huffingtonpost.com/entry/3-weirdly...</td>\n",
       "      <td>3 Weirdly Accurate Reasons to Stop Saving for ...</td>\n",
       "      <td>BUSINESS</td>\n",
       "      <td>If you're making contributions to retirement p...</td>\n",
       "      <td>Garrett B. Gunderson, ContributorCo-founder an...</td>\n",
       "      <td>2014-12-25</td>\n",
       "      <td>3 weirdly accurate reason stop saving retireme...</td>\n",
       "      <td>'re make contribution retirement plan n't thre...</td>\n",
       "      <td>...</td>\n",
       "      <td>-0.000888</td>\n",
       "      <td>0.012577</td>\n",
       "      <td>0.005145</td>\n",
       "      <td>-0.007096</td>\n",
       "      <td>-0.012337</td>\n",
       "      <td>0.021824</td>\n",
       "      <td>-0.001906</td>\n",
       "      <td>-0.001362</td>\n",
       "      <td>0.000017</td>\n",
       "      <td>0.001416</td>\n",
       "    </tr>\n",
       "    <tr>\n",
       "      <th>3</th>\n",
       "      <td>3</td>\n",
       "      <td>3</td>\n",
       "      <td>https://www.huffingtonpost.com/entry/mel-b-thr...</td>\n",
       "      <td>Mel B Throws Water At Simon Cowell, Exits Afte...</td>\n",
       "      <td>ENTERTAINMENT</td>\n",
       "      <td>\"I told him he was an arsehole.\"</td>\n",
       "      <td>Ron Dicker</td>\n",
       "      <td>2017-08-23</td>\n",
       "      <td>mel b throw water simon cowell exit marriage j...</td>\n",
       "      <td>`` tell arsehole ''</td>\n",
       "      <td>...</td>\n",
       "      <td>-0.016694</td>\n",
       "      <td>0.016781</td>\n",
       "      <td>0.011146</td>\n",
       "      <td>0.006474</td>\n",
       "      <td>-0.001524</td>\n",
       "      <td>0.013962</td>\n",
       "      <td>-0.010167</td>\n",
       "      <td>0.010588</td>\n",
       "      <td>0.003316</td>\n",
       "      <td>-0.002913</td>\n",
       "    </tr>\n",
       "    <tr>\n",
       "      <th>4</th>\n",
       "      <td>4</td>\n",
       "      <td>4</td>\n",
       "      <td>https://www.huffingtonpost.com/entry/yoga-immu...</td>\n",
       "      <td>Yoga Associated With Gene Expression In Immune...</td>\n",
       "      <td>WELLNESS</td>\n",
       "      <td>And although it's long been known that yoga ca...</td>\n",
       "      <td>Carolyn Gregoire</td>\n",
       "      <td>2013-04-25</td>\n",
       "      <td>yoga associate gene expression immune cell stu...</td>\n",
       "      <td>although long know yoga reduce stress ucla stu...</td>\n",
       "      <td>...</td>\n",
       "      <td>0.015909</td>\n",
       "      <td>-0.003085</td>\n",
       "      <td>0.028251</td>\n",
       "      <td>0.002504</td>\n",
       "      <td>-0.005376</td>\n",
       "      <td>-0.000522</td>\n",
       "      <td>-0.018126</td>\n",
       "      <td>-0.018614</td>\n",
       "      <td>-0.004334</td>\n",
       "      <td>0.006939</td>\n",
       "    </tr>\n",
       "  </tbody>\n",
       "</table>\n",
       "<p>5 rows × 1412 columns</p>\n",
       "</div>"
      ],
      "text/plain": [
       "   index  Unnamed: 0                                           link_col  \\\n",
       "0      0           0  https://www.huffingtonpost.com/entry/blgt-usas...   \n",
       "1      1           1  https://www.huffingtonpost.com/entry/let-go_us...   \n",
       "2      2           2  https://www.huffingtonpost.com/entry/3-weirdly...   \n",
       "3      3           3  https://www.huffingtonpost.com/entry/mel-b-thr...   \n",
       "4      4           4  https://www.huffingtonpost.com/entry/yoga-immu...   \n",
       "\n",
       "                                        headline_col   category_col  \\\n",
       "0  BLgT USA's Latest Pit Stop On Its LGBTQ Equali...   QUEER VOICES   \n",
       "1                         Legacy: Learning to Let Go       WELLNESS   \n",
       "2  3 Weirdly Accurate Reasons to Stop Saving for ...       BUSINESS   \n",
       "3  Mel B Throws Water At Simon Cowell, Exits Afte...  ENTERTAINMENT   \n",
       "4  Yoga Associated With Gene Expression In Immune...       WELLNESS   \n",
       "\n",
       "                                   short_description  \\\n",
       "0  The latest updates from the 50-state food equa...   \n",
       "1  September brings its newness. Energy is high a...   \n",
       "2  If you're making contributions to retirement p...   \n",
       "3                   \"I told him he was an arsehole.\"   \n",
       "4  And although it's long been known that yoga ca...   \n",
       "\n",
       "                                         authors_col    date_col  \\\n",
       "0                              James Michael Nichols  2015-07-13   \n",
       "1  Rachael Freed, Contributor\\r\\ncreator of life ...  2013-09-06   \n",
       "2  Garrett B. Gunderson, ContributorCo-founder an...  2014-12-25   \n",
       "3                                         Ron Dicker  2017-08-23   \n",
       "4                                   Carolyn Gregoire  2013-04-25   \n",
       "\n",
       "                                    headline_cleaned  \\\n",
       "0   blgt usa late pit stop lgbtq equality tour south   \n",
       "1                                legacy learn let go   \n",
       "2  3 weirdly accurate reason stop saving retireme...   \n",
       "3  mel b throw water simon cowell exit marriage j...   \n",
       "4  yoga associate gene expression immune cell stu...   \n",
       "\n",
       "                           short_description_cleaned  ...      1390      1391  \\\n",
       "0            late update 50 state food equality tour  ...  0.025050 -0.018328   \n",
       "1  september bring newness energy high teacher ch...  ...  0.012558 -0.005345   \n",
       "2  're make contribution retirement plan n't thre...  ... -0.000888  0.012577   \n",
       "3                                `` tell arsehole ''  ... -0.016694  0.016781   \n",
       "4  although long know yoga reduce stress ucla stu...  ...  0.015909 -0.003085   \n",
       "\n",
       "       1392      1393      1394      1395      1396      1397      1398  \\\n",
       "0 -0.003255  0.006662 -0.001935 -0.002674 -0.002762 -0.014888  0.010297   \n",
       "1  0.010755  0.003383 -0.007317 -0.022330  0.006550  0.006965 -0.005208   \n",
       "2  0.005145 -0.007096 -0.012337  0.021824 -0.001906 -0.001362  0.000017   \n",
       "3  0.011146  0.006474 -0.001524  0.013962 -0.010167  0.010588  0.003316   \n",
       "4  0.028251  0.002504 -0.005376 -0.000522 -0.018126 -0.018614 -0.004334   \n",
       "\n",
       "       1399  \n",
       "0 -0.007270  \n",
       "1 -0.004315  \n",
       "2  0.001416  \n",
       "3 -0.002913  \n",
       "4  0.006939  \n",
       "\n",
       "[5 rows x 1412 columns]"
      ]
     },
     "execution_count": 4,
     "metadata": {},
     "output_type": "execute_result"
    }
   ],
   "source": [
    "news.head()"
   ]
  },
  {
   "cell_type": "code",
   "execution_count": 12,
   "id": "c4ac0370",
   "metadata": {},
   "outputs": [],
   "source": [
    "news.drop('Unnamed: 0', axis=1, inplace=True)\n",
    "news.drop('index', axis=1, inplace=True)"
   ]
  },
  {
   "cell_type": "code",
   "execution_count": 41,
   "id": "aaa1089c",
   "metadata": {},
   "outputs": [],
   "source": [
    "### One-hot encoding for category cols\n",
    "news['politics'] = 0\n",
    "news.loc[news.category_col=='POLITICS', 'politics']=1\n",
    "\n",
    "news['wellness'] = 0\n",
    "news.loc[news.category_col=='WELLNESS', 'wellness']=1\n",
    "\n",
    "news['entertainment'] = 0\n",
    "news.loc[news.category_col=='ENTERTAINMENT', 'entertainment']=1\n",
    "\n",
    "news['parenting'] = 0\n",
    "news.loc[news.category_col=='PARENTING', 'parenting']=1\n",
    "\n",
    "news['style'] = 0\n",
    "news.loc[news.category_col=='STYLE & BEAUTY', 'style']=1\n",
    "\n",
    "news['travel'] = 0\n",
    "news.loc[news.category_col=='TRAVEL', 'travel']=1\n",
    "\n",
    "news['food'] = 0\n",
    "news.loc[news.category_col=='FOOD & DRINK', 'food']=1\n",
    "\n",
    "news['queer_voices'] = 0\n",
    "news.loc[news.category_col=='QUEER VOICES', 'queer_voices']=1\n",
    "\n",
    "news['business'] = 0\n",
    "news.loc[news.category_col=='BUSINESS', 'business']=1\n",
    "\n",
    "news['sports'] = 0\n",
    "news.loc[news.category_col=='SPORTS', 'sports']=1\n",
    "\n",
    "news['black_voices'] = 0\n",
    "news.loc[news.category_col=='BLACK VOICES', 'black_voices']=1\n",
    "\n",
    "## missing category is World news"
   ]
  },
  {
   "cell_type": "code",
   "execution_count": 52,
   "id": "3d2866ad",
   "metadata": {},
   "outputs": [
    {
     "data": {
      "text/plain": [
       "Index(['politics', 'wellness', 'entertainment', 'parenting', 'style', 'travel',\n",
       "       'food', 'queer_voices', 'business', 'sports', 'black_voices'],\n",
       "      dtype='object')"
      ]
     },
     "execution_count": 52,
     "metadata": {},
     "output_type": "execute_result"
    }
   ],
   "source": [
    "cat_cols = news.columns[-11:]\n",
    "cat_cols"
   ]
  },
  {
   "cell_type": "code",
   "execution_count": 53,
   "id": "c2eae053",
   "metadata": {},
   "outputs": [
    {
     "data": {
      "text/plain": [
       "Index([   0,    1,    2,    3,    4,    5,    6,    7,    8,    9,\n",
       "       ...\n",
       "       1390, 1391, 1392, 1393, 1394, 1395, 1396, 1397, 1398, 1399],\n",
       "      dtype='object', length=1400)"
      ]
     },
     "execution_count": 53,
     "metadata": {},
     "output_type": "execute_result"
    }
   ],
   "source": [
    "### Columns which only have PCA Cols\n",
    "pca_cols  = news.columns[9:-11]\n",
    "pca_cols"
   ]
  },
  {
   "cell_type": "code",
   "execution_count": 54,
   "id": "fc820355",
   "metadata": {},
   "outputs": [],
   "source": [
    "## Train_test_split\n",
    "from sklearn.model_selection import train_test_split\n",
    "\n",
    "X_train, X_ho, y_train, y_ho = train_test_split(news[pca_cols],news[cat_cols],\n",
    "                                         random_state = 546,\n",
    "                                         shuffle = True,\n",
    "                                         test_size = .2,\n",
    "                                         stratify = news['category_col'])"
   ]
  },
  {
   "cell_type": "code",
   "execution_count": 3,
   "id": "0495f712",
   "metadata": {},
   "outputs": [
    {
     "ename": "NameError",
     "evalue": "name 'xg' is not defined",
     "output_type": "error",
     "traceback": [
      "\u001b[1;31m---------------------------------------------------------------------------\u001b[0m",
      "\u001b[1;31mNameError\u001b[0m                                 Traceback (most recent call last)",
      "Input \u001b[1;32mIn [3]\u001b[0m, in \u001b[0;36m<cell line: 3>\u001b[1;34m()\u001b[0m\n\u001b[0;32m      1\u001b[0m \u001b[38;5;66;03m### Making the model\u001b[39;00m\n\u001b[0;32m      2\u001b[0m \u001b[38;5;66;03m### learning_rate=.1, max_depth=12, n_estimators=200\u001b[39;00m\n\u001b[1;32m----> 3\u001b[0m xgb_cl \u001b[38;5;241m=\u001b[39m \u001b[43mxg\u001b[49m\u001b[38;5;241m.\u001b[39mXGBClassifier(learning_rate\u001b[38;5;241m=\u001b[39m\u001b[38;5;241m.1\u001b[39m,\n\u001b[0;32m      4\u001b[0m                                    max_depth\u001b[38;5;241m=\u001b[39m\u001b[38;5;241m12\u001b[39m,\n\u001b[0;32m      5\u001b[0m                                    n_estimators\u001b[38;5;241m=\u001b[39m\u001b[38;5;241m200\u001b[39m)\n\u001b[0;32m      8\u001b[0m \u001b[38;5;66;03m## fit it\u001b[39;00m\n\u001b[0;32m      9\u001b[0m xgb_cl\u001b[38;5;241m.\u001b[39mfit(X_train, y_train,\n\u001b[0;32m     10\u001b[0m            early_stopping_rounds \u001b[38;5;241m=\u001b[39m \u001b[38;5;241m10\u001b[39m, \u001b[38;5;66;03m## forget to add this, so it didn't stop early,\u001b[39;00m\n\u001b[0;32m     11\u001b[0m            eval_metric \u001b[38;5;241m=\u001b[39m \u001b[38;5;124m\"\u001b[39m\u001b[38;5;124mmlogloss\u001b[39m\u001b[38;5;124m\"\u001b[39m,\n\u001b[0;32m     12\u001b[0m            eval_set\u001b[38;5;241m=\u001b[39m[(X_ho, y_ho)])\n",
      "\u001b[1;31mNameError\u001b[0m: name 'xg' is not defined"
     ]
    }
   ],
   "source": [
    "### Making the model\n",
    "### learning_rate=.1, max_depth=12, n_estimators=200\n",
    "xgb_cl = xgboost.XGBClassifier(learning_rate=.1,\n",
    "                                   max_depth=12,\n",
    "                                   n_estimators=200)\n",
    "\n",
    "\n",
    "## fit it\n",
    "xgb_cl.fit(X_train, y_train,\n",
    "           early_stopping_rounds = 10, ## forget to add this, so it didn't stop early\n",
    "           eval_set=[(X_ho, y_ho)])\n"
   ]
  },
  {
   "cell_type": "code",
   "execution_count": null,
   "id": "1fc675cc",
   "metadata": {},
   "outputs": [],
   "source": [
    "xgb_cl.evals_result()"
   ]
  },
  {
   "cell_type": "code",
   "execution_count": 62,
   "id": "d138f58a",
   "metadata": {},
   "outputs": [],
   "source": [
    "from sklearn.metrics import accuracy_score"
   ]
  },
  {
   "cell_type": "code",
   "execution_count": 63,
   "id": "871e0996",
   "metadata": {},
   "outputs": [
    {
     "ename": "KeyError",
     "evalue": "'rmse'",
     "output_type": "error",
     "traceback": [
      "\u001b[1;31m---------------------------------------------------------------------------\u001b[0m",
      "\u001b[1;31mKeyError\u001b[0m                                  Traceback (most recent call last)",
      "Input \u001b[1;32mIn [63]\u001b[0m, in \u001b[0;36m<cell line: 2>\u001b[1;34m()\u001b[0m\n\u001b[0;32m      1\u001b[0m \u001b[38;5;66;03m## get the 'rmse'\u001b[39;00m\n\u001b[1;32m----> 2\u001b[0m \u001b[43mxgb_cl\u001b[49m\u001b[38;5;241;43m.\u001b[39;49m\u001b[43mevals_result\u001b[49m\u001b[43m(\u001b[49m\u001b[43m)\u001b[49m\u001b[43m[\u001b[49m\u001b[38;5;124;43m'\u001b[39;49m\u001b[38;5;124;43mvalidation_0\u001b[39;49m\u001b[38;5;124;43m'\u001b[39;49m\u001b[43m]\u001b[49m\u001b[43m[\u001b[49m\u001b[38;5;124;43m'\u001b[39;49m\u001b[38;5;124;43mrmse\u001b[39;49m\u001b[38;5;124;43m'\u001b[39;49m\u001b[43m]\u001b[49m\n",
      "\u001b[1;31mKeyError\u001b[0m: 'rmse'"
     ]
    }
   ],
   "source": [
    "## get the 'rmse'\n",
    "xgb_cl.evals_result()['validation_0']['rmse']"
   ]
  },
  {
   "cell_type": "code",
   "execution_count": 66,
   "id": "24151ea9",
   "metadata": {},
   "outputs": [
    {
     "name": "stdout",
     "output_type": "stream",
     "text": [
      "Accuracy: 55.72%\n"
     ]
    }
   ],
   "source": [
    "#model.fit(X_train, y_train)\n",
    "# make predictions for test data\n",
    "y_pred = xgb_cl.predict(X_ho)\n",
    "predictions = [value for value in y_pred]\n",
    "# evaluate predictions\n",
    "accuracy = accuracy_score(y_ho, predictions)\n",
    "print(\"Accuracy: %.2f%%\" % (accuracy * 100.0))"
   ]
  },
  {
   "cell_type": "code",
   "execution_count": null,
   "id": "1289c86d",
   "metadata": {},
   "outputs": [],
   "source": []
  }
 ],
 "metadata": {
  "kernelspec": {
   "display_name": "Python 3 (ipykernel)",
   "language": "python",
   "name": "python3"
  },
  "language_info": {
   "codemirror_mode": {
    "name": "ipython",
    "version": 3
   },
   "file_extension": ".py",
   "mimetype": "text/x-python",
   "name": "python",
   "nbconvert_exporter": "python",
   "pygments_lexer": "ipython3",
   "version": "3.9.12"
  }
 },
 "nbformat": 4,
 "nbformat_minor": 5
}
