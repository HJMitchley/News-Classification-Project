{
 "cells": [
  {
   "cell_type": "markdown",
   "id": "c5871000",
   "metadata": {},
   "source": [
    "This tests what the output of Gensim TFIDF looks like. This uses a much smaller dataset (not one we actually care about) "
   ]
  },
  {
   "cell_type": "code",
   "execution_count": 1,
   "id": "016372e1",
   "metadata": {},
   "outputs": [],
   "source": [
    "import pandas as pd\n",
    "import gensim\n",
    "import pprint\n",
    "from gensim import corpora\n",
    "from gensim.utils import simple_preprocess"
   ]
  },
  {
   "cell_type": "code",
   "execution_count": 2,
   "id": "23a88459",
   "metadata": {},
   "outputs": [],
   "source": [
    "df = pd.read_csv(\"News_ds_cleaned.csv\")"
   ]
  },
  {
   "cell_type": "code",
   "execution_count": 3,
   "id": "1cc64b0f",
   "metadata": {},
   "outputs": [],
   "source": [
    "temp = df.head(100)"
   ]
  },
  {
   "cell_type": "code",
   "execution_count": 4,
   "id": "9c114395",
   "metadata": {
    "scrolled": true
   },
   "outputs": [
    {
     "data": {
      "text/html": [
       "<div>\n",
       "<style scoped>\n",
       "    .dataframe tbody tr th:only-of-type {\n",
       "        vertical-align: middle;\n",
       "    }\n",
       "\n",
       "    .dataframe tbody tr th {\n",
       "        vertical-align: top;\n",
       "    }\n",
       "\n",
       "    .dataframe thead th {\n",
       "        text-align: right;\n",
       "    }\n",
       "</style>\n",
       "<table border=\"1\" class=\"dataframe\">\n",
       "  <thead>\n",
       "    <tr style=\"text-align: right;\">\n",
       "      <th></th>\n",
       "      <th>Unnamed: 0</th>\n",
       "      <th>link</th>\n",
       "      <th>headline</th>\n",
       "      <th>short_description</th>\n",
       "      <th>authors</th>\n",
       "      <th>date</th>\n",
       "      <th>headline_cleaned</th>\n",
       "      <th>short_description_cleaned</th>\n",
       "    </tr>\n",
       "    <tr>\n",
       "      <th>category</th>\n",
       "      <th></th>\n",
       "      <th></th>\n",
       "      <th></th>\n",
       "      <th></th>\n",
       "      <th></th>\n",
       "      <th></th>\n",
       "      <th></th>\n",
       "      <th></th>\n",
       "    </tr>\n",
       "  </thead>\n",
       "  <tbody>\n",
       "    <tr>\n",
       "      <th>COMEDY</th>\n",
       "      <td>1</td>\n",
       "      <td>1</td>\n",
       "      <td>1</td>\n",
       "      <td>1</td>\n",
       "      <td>1</td>\n",
       "      <td>1</td>\n",
       "      <td>1</td>\n",
       "      <td>1</td>\n",
       "    </tr>\n",
       "    <tr>\n",
       "      <th>EDUCATION</th>\n",
       "      <td>1</td>\n",
       "      <td>1</td>\n",
       "      <td>1</td>\n",
       "      <td>1</td>\n",
       "      <td>1</td>\n",
       "      <td>1</td>\n",
       "      <td>1</td>\n",
       "      <td>1</td>\n",
       "    </tr>\n",
       "    <tr>\n",
       "      <th>PARENTING</th>\n",
       "      <td>1</td>\n",
       "      <td>1</td>\n",
       "      <td>1</td>\n",
       "      <td>1</td>\n",
       "      <td>1</td>\n",
       "      <td>1</td>\n",
       "      <td>1</td>\n",
       "      <td>1</td>\n",
       "    </tr>\n",
       "    <tr>\n",
       "      <th>TECH</th>\n",
       "      <td>2</td>\n",
       "      <td>2</td>\n",
       "      <td>2</td>\n",
       "      <td>2</td>\n",
       "      <td>2</td>\n",
       "      <td>2</td>\n",
       "      <td>2</td>\n",
       "      <td>2</td>\n",
       "    </tr>\n",
       "    <tr>\n",
       "      <th>WEIRD NEWS</th>\n",
       "      <td>2</td>\n",
       "      <td>2</td>\n",
       "      <td>2</td>\n",
       "      <td>2</td>\n",
       "      <td>1</td>\n",
       "      <td>2</td>\n",
       "      <td>2</td>\n",
       "      <td>2</td>\n",
       "    </tr>\n",
       "    <tr>\n",
       "      <th>CULTURE &amp; ARTS</th>\n",
       "      <td>5</td>\n",
       "      <td>5</td>\n",
       "      <td>5</td>\n",
       "      <td>5</td>\n",
       "      <td>5</td>\n",
       "      <td>5</td>\n",
       "      <td>5</td>\n",
       "      <td>5</td>\n",
       "    </tr>\n",
       "    <tr>\n",
       "      <th>ENVIRONMENT</th>\n",
       "      <td>5</td>\n",
       "      <td>5</td>\n",
       "      <td>5</td>\n",
       "      <td>5</td>\n",
       "      <td>5</td>\n",
       "      <td>5</td>\n",
       "      <td>5</td>\n",
       "      <td>5</td>\n",
       "    </tr>\n",
       "    <tr>\n",
       "      <th>SPORTS</th>\n",
       "      <td>7</td>\n",
       "      <td>7</td>\n",
       "      <td>7</td>\n",
       "      <td>7</td>\n",
       "      <td>5</td>\n",
       "      <td>7</td>\n",
       "      <td>7</td>\n",
       "      <td>7</td>\n",
       "    </tr>\n",
       "    <tr>\n",
       "      <th>POLITICS</th>\n",
       "      <td>16</td>\n",
       "      <td>16</td>\n",
       "      <td>16</td>\n",
       "      <td>16</td>\n",
       "      <td>15</td>\n",
       "      <td>16</td>\n",
       "      <td>16</td>\n",
       "      <td>16</td>\n",
       "    </tr>\n",
       "    <tr>\n",
       "      <th>ENTERTAINMENT</th>\n",
       "      <td>17</td>\n",
       "      <td>17</td>\n",
       "      <td>17</td>\n",
       "      <td>17</td>\n",
       "      <td>15</td>\n",
       "      <td>17</td>\n",
       "      <td>17</td>\n",
       "      <td>17</td>\n",
       "    </tr>\n",
       "    <tr>\n",
       "      <th>WORLD NEWS</th>\n",
       "      <td>20</td>\n",
       "      <td>20</td>\n",
       "      <td>20</td>\n",
       "      <td>20</td>\n",
       "      <td>19</td>\n",
       "      <td>20</td>\n",
       "      <td>20</td>\n",
       "      <td>20</td>\n",
       "    </tr>\n",
       "    <tr>\n",
       "      <th>U.S. NEWS</th>\n",
       "      <td>23</td>\n",
       "      <td>23</td>\n",
       "      <td>23</td>\n",
       "      <td>23</td>\n",
       "      <td>18</td>\n",
       "      <td>23</td>\n",
       "      <td>23</td>\n",
       "      <td>23</td>\n",
       "    </tr>\n",
       "  </tbody>\n",
       "</table>\n",
       "</div>"
      ],
      "text/plain": [
       "                Unnamed: 0  link  headline  short_description  authors  date  \\\n",
       "category                                                                       \n",
       "COMEDY                   1     1         1                  1        1     1   \n",
       "EDUCATION                1     1         1                  1        1     1   \n",
       "PARENTING                1     1         1                  1        1     1   \n",
       "TECH                     2     2         2                  2        2     2   \n",
       "WEIRD NEWS               2     2         2                  2        1     2   \n",
       "CULTURE & ARTS           5     5         5                  5        5     5   \n",
       "ENVIRONMENT              5     5         5                  5        5     5   \n",
       "SPORTS                   7     7         7                  7        5     7   \n",
       "POLITICS                16    16        16                 16       15    16   \n",
       "ENTERTAINMENT           17    17        17                 17       15    17   \n",
       "WORLD NEWS              20    20        20                 20       19    20   \n",
       "U.S. NEWS               23    23        23                 23       18    23   \n",
       "\n",
       "                headline_cleaned  short_description_cleaned  \n",
       "category                                                     \n",
       "COMEDY                         1                          1  \n",
       "EDUCATION                      1                          1  \n",
       "PARENTING                      1                          1  \n",
       "TECH                           2                          2  \n",
       "WEIRD NEWS                     2                          2  \n",
       "CULTURE & ARTS                 5                          5  \n",
       "ENVIRONMENT                    5                          5  \n",
       "SPORTS                         7                          7  \n",
       "POLITICS                      16                         16  \n",
       "ENTERTAINMENT                 17                         17  \n",
       "WORLD NEWS                    20                         20  \n",
       "U.S. NEWS                     23                         23  "
      ]
     },
     "execution_count": 4,
     "metadata": {},
     "output_type": "execute_result"
    }
   ],
   "source": [
    "temp.groupby(\"category\").count().sort_values(by=[\"link\"])"
   ]
  },
  {
   "cell_type": "code",
   "execution_count": 5,
   "id": "58460c28",
   "metadata": {},
   "outputs": [],
   "source": [
    "## create new df with only categories we want\n",
    "df = temp.loc[temp['category'].isin([\"U.S. NEWS\", \"WORLD NEWS\", \"ENTERTAINMENT\", \"POLITICS\", \"SPORTS\"])]"
   ]
  },
  {
   "cell_type": "code",
   "execution_count": 6,
   "id": "a8c295db",
   "metadata": {},
   "outputs": [],
   "source": [
    "## NB!! reset the indices! \n",
    "## Need this in order to accurately match the rows in this df with their if-tdf vectors\n",
    "df = df.reset_index(drop=True)\n",
    "\n",
    "## drop the second column of indices\n",
    "df.drop('Unnamed: 0', axis=1, inplace=True)"
   ]
  },
  {
   "cell_type": "code",
   "execution_count": 7,
   "id": "dc3eaa3b",
   "metadata": {},
   "outputs": [
    {
     "data": {
      "text/html": [
       "<div>\n",
       "<style scoped>\n",
       "    .dataframe tbody tr th:only-of-type {\n",
       "        vertical-align: middle;\n",
       "    }\n",
       "\n",
       "    .dataframe tbody tr th {\n",
       "        vertical-align: top;\n",
       "    }\n",
       "\n",
       "    .dataframe thead th {\n",
       "        text-align: right;\n",
       "    }\n",
       "</style>\n",
       "<table border=\"1\" class=\"dataframe\">\n",
       "  <thead>\n",
       "    <tr style=\"text-align: right;\">\n",
       "      <th></th>\n",
       "      <th>link</th>\n",
       "      <th>headline</th>\n",
       "      <th>category</th>\n",
       "      <th>short_description</th>\n",
       "      <th>authors</th>\n",
       "      <th>date</th>\n",
       "      <th>headline_cleaned</th>\n",
       "      <th>short_description_cleaned</th>\n",
       "    </tr>\n",
       "  </thead>\n",
       "  <tbody>\n",
       "    <tr>\n",
       "      <th>0</th>\n",
       "      <td>https://www.huffpost.com/entry/covid-boosters-...</td>\n",
       "      <td>Over 4 Million Americans Roll Up Sleeves For O...</td>\n",
       "      <td>U.S. NEWS</td>\n",
       "      <td>Health experts said it is too early to predict...</td>\n",
       "      <td>Carla K. Johnson, AP</td>\n",
       "      <td>2022-09-23</td>\n",
       "      <td>4 million american roll sleeve omicron target ...</td>\n",
       "      <td>health expert say early predict whether demand...</td>\n",
       "    </tr>\n",
       "    <tr>\n",
       "      <th>1</th>\n",
       "      <td>https://www.huffpost.com/entry/american-airlin...</td>\n",
       "      <td>American Airlines Flyer Charged, Banned For Li...</td>\n",
       "      <td>U.S. NEWS</td>\n",
       "      <td>He was subdued by passengers and crew when he ...</td>\n",
       "      <td>Mary Papenfuss</td>\n",
       "      <td>2022-09-23</td>\n",
       "      <td>american airline flyer charge ban life punch f...</td>\n",
       "      <td>subdue passenger crew flee back aircraft confr...</td>\n",
       "    </tr>\n",
       "  </tbody>\n",
       "</table>\n",
       "</div>"
      ],
      "text/plain": [
       "                                                link  \\\n",
       "0  https://www.huffpost.com/entry/covid-boosters-...   \n",
       "1  https://www.huffpost.com/entry/american-airlin...   \n",
       "\n",
       "                                            headline   category  \\\n",
       "0  Over 4 Million Americans Roll Up Sleeves For O...  U.S. NEWS   \n",
       "1  American Airlines Flyer Charged, Banned For Li...  U.S. NEWS   \n",
       "\n",
       "                                   short_description               authors  \\\n",
       "0  Health experts said it is too early to predict...  Carla K. Johnson, AP   \n",
       "1  He was subdued by passengers and crew when he ...        Mary Papenfuss   \n",
       "\n",
       "         date                                   headline_cleaned  \\\n",
       "0  2022-09-23  4 million american roll sleeve omicron target ...   \n",
       "1  2022-09-23  american airline flyer charge ban life punch f...   \n",
       "\n",
       "                           short_description_cleaned  \n",
       "0  health expert say early predict whether demand...  \n",
       "1  subdue passenger crew flee back aircraft confr...  "
      ]
     },
     "execution_count": 7,
     "metadata": {},
     "output_type": "execute_result"
    }
   ],
   "source": [
    "df.head(2)"
   ]
  },
  {
   "cell_type": "code",
   "execution_count": 8,
   "id": "82b91bc7",
   "metadata": {},
   "outputs": [],
   "source": [
    "## create new column with two cleaned cells concatenated\n",
    "df['cleaned_words'] = df['headline_cleaned'] + ' ' + df['short_description_cleaned']"
   ]
  },
  {
   "cell_type": "code",
   "execution_count": 11,
   "id": "98d79361",
   "metadata": {},
   "outputs": [],
   "source": [
    "## rename single word columns in df \n",
    "## (it causes problems if one of the words from text is same as another column name)\n",
    "df = df.rename(columns={\"link\":\"link_col\", \n",
    "                        \"headline\":\"headline_col\", \n",
    "                        \"category\":\"category_col\",\n",
    "                        \"authors\":\"authors_col\", \n",
    "                        \"date\":\"date_col\"})"
   ]
  },
  {
   "cell_type": "code",
   "execution_count": 12,
   "id": "658e693b",
   "metadata": {},
   "outputs": [],
   "source": [
    "## Train_test_split\n",
    "from sklearn.model_selection import train_test_split\n",
    "\n",
    "news_train, news_test = train_test_split(df,\n",
    "                                         random_state = 546,\n",
    "                                         shuffle = True,\n",
    "                                         test_size = .2,\n",
    "                                         stratify = df['category_col'])"
   ]
  },
  {
   "cell_type": "markdown",
   "id": "428fa987",
   "metadata": {},
   "source": [
    "## TF-IDF for training data"
   ]
  },
  {
   "cell_type": "code",
   "execution_count": null,
   "id": "8e47a4d6",
   "metadata": {},
   "outputs": [],
   "source": [
    "import numpy as np\n",
    "import gensim.downloader as api\n",
    "from gensim.models import TfidfModel\n",
    "from gensim.corpora import Dictionary"
   ]
  },
  {
   "cell_type": "code",
   "execution_count": 13,
   "id": "b9396a49",
   "metadata": {},
   "outputs": [],
   "source": [
    "train_tokenized = [simple_preprocess(line) for line in news_train['cleaned_words']]\n",
    "train_dict = corpora.Dictionary()\n",
    "train_corpus = [train_dict.doc2bow(line, allow_update=True) for line in train_tokenized]"
   ]
  },
  {
   "cell_type": "code",
   "execution_count": 14,
   "id": "2fbf71f8",
   "metadata": {},
   "outputs": [],
   "source": [
    "train_tfidf = TfidfModel(train_corpus, smartirs='ntc')"
   ]
  },
  {
   "cell_type": "code",
   "execution_count": 22,
   "id": "05f8e2d4",
   "metadata": {},
   "outputs": [
    {
     "name": "stdout",
     "output_type": "stream",
     "text": [
      "[['biochemist', 0.29], ['boyfriend', 0.29], ['branch', 0.29], ['clearly', 0.29], ['corden', 0.29], ['could', 0.19], ['james', 0.24], ['kardashian', 0.29], ['kim', 0.29], ['next', 0.24], ['reality', 0.29], ['star', 0.21], ['tell', 0.19], ['whatever', 0.29], ['work', 0.16]]\n",
      "[['audience', 0.21], ['award', 0.41], ['ceremony', 0.21], ['compare', 0.25], ['continue', 0.25], ['dip', 0.25], ['drop', 0.25], ['emmy', 0.25], ['lose', 0.18], ['low', 0.21], ['million', 0.16], ['program', 0.25], ['record', 0.21], ['roughly', 0.25], ['television', 0.25], ['viewer', 0.25], ['viewership', 0.25]]\n",
      "[['star', 0.17], ['alexander', 0.23], ['announcement', 0.23], ['bronx', 0.23], ['cardi', 0.23], ['child', 0.2], ['donate', 0.23], ['grammy', 0.23], ['height', 0.23], ['macomb', 0.23], ['make', 0.13], ['middle', 0.23], ['morris', 0.23], ['old', 0.16], ['rapper', 0.23], ['school', 0.39], ['struck', 0.23], ['surprise', 0.23], ['win', 0.17]]\n",
      "[['atomic', 0.2], ['big', 0.24], ['day', 0.13], ['early', 0.24], ['force', 0.16], ['last', 0.24], ['mark', 0.18], ['nuclear', 0.18], ['occupy', 0.24], ['one', 0.2], ['plant', 0.35], ['power', 0.24], ['reactor', 0.24], ['russian', 0.14], ['since', 0.24], ['station', 0.24], ['stop', 0.2], ['sunday', 0.16], ['th', 0.2], ['ukraine', 0.16], ['war', 0.16], ['world', 0.15], ['zaporizhzhia', 0.2]]\n",
      "[['allan', 0.24], ['cranston', 0.24], ['democrat', 0.2], ['election', 0.24], ['face', 0.18], ['former', 0.18], ['fung', 0.24], ['general', 0.4], ['house', 0.15], ['island', 0.18], ['key', 0.2], ['magaziner', 0.24], ['mayor', 0.2], ['nominate', 0.24], ['race', 0.16], ['rhode', 0.2], ['seth', 0.24], ['slat', 0.24], ['state', 0.15], ['treasurer', 0.24]]\n",
      "[['stop', 0.17], ['state', 0.12], ['advisory', 0.2], ['boil', 0.2], ['bottled', 0.2], ['capital', 0.41], ['crisis', 0.2], ['free', 0.17], ['hand', 0.2], ['lift', 0.2], ['mississippi', 0.41], ['racism', 0.2], ['root', 0.2], ['saturday', 0.2], ['see', 0.17], ['water', 0.45]]\n",
      "[['across', 0.2], ['affiliate', 0.2], ['afl', 0.4], ['association', 0.2], ['baseball', 0.2], ['cio', 0.4], ['finally', 0.17], ['industry', 0.2], ['join', 0.14], ['member', 0.17], ['mlb', 0.17], ['player', 0.34], ['show', 0.17], ['solidarity', 0.2], ['union', 0.4], ['worker', 0.14]]\n",
      "[['make', 0.12], ['force', 0.15], ['ukraine', 0.15], ['advance', 0.23], ['announce', 0.23], ['area', 0.19], ['back', 0.26], ['counter', 0.23], ['defense', 0.23], ['kharkiv', 0.23], ['ministry', 0.23], ['offensive', 0.23], ['pull', 0.45], ['region', 0.19], ['russia', 0.3], ['say', 0.08], ['significant', 0.19], ['troop', 0.23], ['two', 0.17], ['ukrainian', 0.15]]\n",
      "[['lose', 0.14], ['ago', 0.19], ['alabama', 0.37], ['black', 0.14], ['blast', 0.19], ['body', 0.14], ['bomb', 0.19], ['church', 0.19], ['collins', 0.19], ['compensation', 0.19], ['eye', 0.19], ['girl', 0.19], ['glass', 0.19], ['inside', 0.31], ['kill', 0.16], ['kkk', 0.19], ['klan', 0.19], ['klux', 0.19], ['ku', 0.19], ['piece', 0.19], ['rudolph', 0.19], ['sarah', 0.19], ['sidestep', 0.19], ['sister', 0.19], ['survivor', 0.16], ['three', 0.14], ['year', 0.09]]\n",
      "[['worker', 0.16], ['inside', 0.2], ['begin', 0.24], ['city', 0.2], ['customer', 0.24], ['dead', 0.16], ['fire', 0.32], ['karaoke', 0.24], ['late', 0.24], ['least', 0.24], ['multi', 0.24], ['parlor', 0.24], ['south', 0.2], ['story', 0.24], ['thuan', 0.24], ['trap', 0.24], ['tuesday', 0.24], ['venue', 0.24], ['vietnam', 0.24]]\n",
      "[['work', 0.15], ['day', 0.14], ['say', 0.09], ['action', 0.26], ['attack', 0.22], ['davis', 0.26], ['fear', 0.22], ['five', 0.26], ['heart', 0.26], ['hour', 0.26], ['king', 0.26], ['movie', 0.19], ['new', 0.15], ['oscar', 0.26], ['role', 0.22], ['the', 0.26], ['training', 0.22], ['viola', 0.26], ['winner', 0.26], ['woman', 0.16]]\n",
      "[['face', 0.19], ['afghan', 0.26], ['afghanistan', 0.22], ['bill', 0.22], ['escape', 0.22], ['help', 0.18], ['long', 0.26], ['odds', 0.26], ['outrage', 0.26], ['refugee', 0.26], ['republican', 0.22], ['resettle', 0.26], ['senate', 0.22], ['shoddy', 0.26], ['spur', 0.22], ['support', 0.22], ['taliban', 0.22], ['withdrawal', 0.26]]\n",
      "[['million', 0.14], ['child', 0.18], ['company', 0.21], ['data', 0.18], ['fin', 0.42], ['giant', 0.21], ['information', 0.18], ['instagram', 0.42], ['irish', 0.21], ['law', 0.18], ['medium', 0.21], ['meta', 0.21], ['parent', 0.21], ['privacy', 0.21], ['regulator', 0.21], ['relate', 0.21], ['social', 0.21], ['violation', 0.21]]\n",
      "[['work', 0.14], ['old', 0.16], ['day', 0.13], ['see', 0.2], ['say', 0.09], ['body', 0.18], ['year', 0.12], ['dead', 0.32], ['south', 0.2], ['woman', 0.15], ['authority', 0.24], ['bathroom', 0.24], ['belk', 0.24], ['carolina', 0.24], ['cleaner', 0.24], ['family', 0.16], ['find', 0.35], ['missing', 0.24], ['monday', 0.2], ['police', 0.15], ['report', 0.18], ['store', 0.2], ['thursday', 0.24]]\n",
      "[['player', 0.19], ['angel', 0.23], ['clemens', 0.23], ['dad', 0.23], ['detroit', 0.23], ['duty', 0.23], ['get', 0.19], ['kody', 0.23], ['loss', 0.23], ['mvp', 0.19], ['ohtani', 0.23], ['pitch', 0.19], ['press', 0.17], ['relief', 0.23], ['roger', 0.23], ['rookie', 0.23], ['shohei', 0.23], ['strike', 0.17], ['tiger', 0.23], ['trail', 0.23], ['utility', 0.23]]\n",
      "[['world', 0.15], ['face', 0.18], ['say', 0.09], ['help', 0.16], ['antonio', 0.24], ['ask', 0.24], ['bear', 0.24], ['challenge', 0.24], ['change', 0.24], ['chief', 0.24], ['climate', 0.24], ['country', 0.24], ['flood', 0.2], ['guterres', 0.24], ['hit', 0.2], ['islamabad', 0.24], ['massive', 0.24], ['pakistan', 0.2], ['responsibility', 0.24], ['speak', 0.24], ['un', 0.2]]\n",
      "[['island', 0.17], ['become', 0.19], ['bermuda', 0.46], ['caicos', 0.23], ['category', 0.23], ['fiona', 0.38], ['forecast', 0.23], ['head', 0.19], ['hurricane', 0.19], ['lash', 0.19], ['later', 0.23], ['past', 0.19], ['squeeze', 0.23], ['storm', 0.19], ['threaten', 0.19], ['turk', 0.23], ['week', 0.19]]\n",
      "[['day', 0.13], ['say', 0.09], ['help', 0.16], ['press', 0.18], ['strike', 0.18], ['care', 0.24], ['improve', 0.24], ['increase', 0.24], ['launch', 0.24], ['minnesota', 0.24], ['nurse', 0.24], ['pandemic', 0.2], ['patient', 0.24], ['pay', 0.18], ['re', 0.24], ['resolve', 0.24], ['salary', 0.24], ['stress', 0.24], ['thousand', 0.18], ['understaffing', 0.24], ['worsen', 0.24]]\n",
      "[['tell', 0.16], ['sunday', 0.16], ['senate', 0.2], ['candidate', 0.24], ['concern', 0.24], ['downplay', 0.24], ['electability', 0.2], ['field', 0.2], ['fox', 0.24], ['gon', 0.24], ['gop', 0.24], ['na', 0.24], ['news', 0.24], ['play', 0.24], ['scott', 0.4], ['sen', 0.24], ['struggle', 0.24], ['tim', 0.24]]\n",
      "[['million', 0.13], ['record', 0.32], ['day', 0.1], ['russian', 0.11], ['break', 0.38], ['cosmonaut', 0.19], ['dy', 0.14], ['earth', 0.19], ['mile', 0.19], ['nearly', 0.19], ['orbit', 0.19], ['outer', 0.19], ['polyakov', 0.38], ['saw', 0.19], ['space', 0.38], ['stay', 0.19], ['time', 0.13], ['travel', 0.19], ['trip', 0.19], ['valery', 0.19]]\n",
      "[['make', 0.12], ['state', 0.14], ['abortion', 0.23], ['amendment', 0.23], ['argument', 0.23], ['ballot', 0.19], ['claim', 0.19], ['court', 0.38], ['high', 0.19], ['measure', 0.23], ['michigan', 0.23], ['november', 0.23], ['opponent', 0.23], ['petition', 0.23], ['qualifying', 0.23], ['reject', 0.23], ['revive', 0.23], ['right', 0.19], ['supreme', 0.19], ['typo', 0.23]]\n",
      "[['force', 0.42], ['nuclear', 0.23], ['plant', 0.23], ['russian', 0.18], ['ukraine', 0.21], ['back', 0.18], ['ukrainian', 0.21], ['new', 0.18], ['claim', 0.26], ['claw', 0.31], ['east', 0.31], ['peril', 0.31], ['success', 0.31], ['territory', 0.26]]\n",
      "[['win', 0.13], ['become', 0.15], ['age', 0.18], ['alcaraz', 0.35], ['carlos', 0.35], ['casper', 0.18], ['defeat', 0.18], ['earn', 0.18], ['final', 0.18], ['first', 0.12], ['grand', 0.18], ['man', 0.15], ['move', 0.18], ['open', 0.29], ['ranking', 0.35], ['ruud', 0.18], ['slam', 0.35], ['st', 0.15], ['title', 0.15], ['top', 0.18], ['young', 0.18]]\n",
      "[['back', 0.13], ['accord', 0.23], ['aircraft', 0.23], ['airline', 0.23], ['american', 0.15], ['angeles', 0.23], ['attendant', 0.23], ['attorney', 0.23], ['ban', 0.23], ['charge', 0.19], ['confrontation', 0.23], ['crew', 0.23], ['flee', 0.19], ['flight', 0.23], ['flyer', 0.23], ['life', 0.17], ['los', 0.23], ['office', 0.17], ['passenger', 0.23], ['punch', 0.23], ['subdue', 0.23], ['video', 0.19]]\n",
      "[['world', 0.24], ['support', 0.17], ['right', 0.17], ['armband', 0.2], ['campaign', 0.2], ['captain', 0.2], ['come', 0.2], ['cup', 0.4], ['discrimination', 0.2], ['european', 0.2], ['federation', 0.2], ['fifa', 0.2], ['human', 0.2], ['pressure', 0.17], ['qatar', 0.2], ['rainbow', 0.2], ['several', 0.2], ['soccer', 0.2], ['want', 0.4], ['wear', 0.2]]\n",
      "[['world', 0.11], ['race', 0.12], ['worker', 0.12], ['area', 0.15], ['flood', 0.29], ['hit', 0.15], ['pakistan', 0.29], ['alarm', 0.35], ['battle', 0.17], ['deadly', 0.15], ['disaster', 0.17], ['disease', 0.35], ['doctor', 0.17], ['ground', 0.17], ['health', 0.17], ['medical', 0.17], ['organization', 0.17], ['outbreak', 0.17], ['raise', 0.35], ['second', 0.17], ['summer', 0.17], ['wake', 0.17], ['waterborne', 0.17]]\n",
      "[['force', 0.19], ['say', 0.1], ['biden', 0.17], ['china', 0.56], ['defend', 0.28], ['invade', 0.28], ['issue', 0.28], ['president', 0.19], ['rise', 0.23], ['taiwan', 0.28], ['tension', 0.28], ['vow', 0.28], ['would', 0.23]]\n",
      "[['mark', 0.19], ['free', 0.21], ['say', 0.09], ['afghanistan', 0.42], ['taliban', 0.21], ['family', 0.17], ['american', 0.17], ['civilian', 0.25], ['contractor', 0.25], ['frerichs', 0.25], ['held', 0.25], ['january', 0.21], ['kidnap', 0.25], ['navy', 0.25], ['prisoner', 0.25], ['swap', 0.25], ['veteran', 0.25]]\n",
      "[['russian', 0.12], ['former', 0.16], ['bill', 0.18], ['ambassador', 0.21], ['brittney', 0.21], ['emissary', 0.21], ['frequent', 0.21], ['griner', 0.21], ['hold', 0.16], ['hostage', 0.21], ['jailed', 0.21], ['leader', 0.18], ['meeting', 0.21], ['moscow', 0.18], ['nation', 0.21], ['negotiation', 0.21], ['paul', 0.21], ['remain', 0.16], ['richardson', 0.43], ['united', 0.21], ['visit', 0.18], ['whelan', 0.21]]\n",
      "[['make', 0.12], ['race', 0.3], ['say', 0.08], ['training', 0.18], ['woman', 0.14], ['time', 0.15], ['athlete', 0.22], ['boston', 0.22], ['division', 0.22], ['guide', 0.22], ['inclusive', 0.22], ['marathon', 0.22], ['men', 0.22], ['nonbinary', 0.44], ['organizer', 0.22], ['provide', 0.22], ['qualify', 0.22], ['register', 0.22], ['runner', 0.18], ['wo', 0.22]]\n",
      "[['movie', 0.22], ['dy', 0.22], ['best', 0.3], ['breathless', 0.3], ['director', 0.22], ['filmmaker', 0.3], ['french', 0.3], ['godard', 0.3], ['groundbreaking', 0.3], ['jean', 0.25], ['know', 0.3], ['luc', 0.3], ['pioneer', 0.3]]\n",
      "[['could', 0.16], ['atomic', 0.2], ['nuclear', 0.18], ['plant', 0.18], ['ukraine', 0.16], ['zaporizhzhia', 0.2], ['head', 0.2], ['agency', 0.24], ['catastrophic', 0.24], ['council', 0.24], ['despite', 0.2], ['energy', 0.24], ['go', 0.18], ['international', 0.24], ['near', 0.24], ['place', 0.24], ['risk', 0.24], ['security', 0.2], ['shell', 0.24], ['something', 0.2], ['take', 0.18], ['warn', 0.24]]\n",
      "[['house', 0.13], ['say', 0.07], ['family', 0.14], ['press', 0.15], ['strike', 0.15], ['would', 0.17], ['jean', 0.17], ['acceptable', 0.2], ['already', 0.2], ['business', 0.41], ['harm', 0.2], ['impact', 0.2], ['karine', 0.2], ['nationwide', 0.2], ['pierre', 0.2], ['possible', 0.2], ['rail', 0.41], ['secretary', 0.2], ['shutdown', 0.2], ['traveler', 0.2], ['well', 0.17], ['white', 0.17]]\n",
      "[['work', 0.11], ['general', 0.17], ['fire', 0.13], ['data', 0.17], ['information', 0.17], ['find', 0.15], ['report', 0.29], ['get', 0.17], ['office', 0.15], ['despite', 0.17], ['bonus', 0.2], ['case', 0.2], ['census', 0.4], ['enter', 0.2], ['false', 0.2], ['fudge', 0.2], ['fully', 0.2], ['inspector', 0.2], ['receive', 0.17], ['redo', 0.2], ['taker', 0.4], ['watchdog', 0.2]]\n",
      "[['work', 0.13], ['award', 0.19], ['old', 0.15], ['year', 0.11], ['receive', 0.37], ['advocacy', 0.22], ['anti', 0.22], ['bullying', 0.22], ['dancer', 0.22], ['effort', 0.19], ['focus', 0.22], ['gamechanger', 0.22], ['glsen', 0.22], ['honor', 0.22], ['icon', 0.22], ['jojo', 0.22], ['lgbtq', 0.22], ['prestigious', 0.22], ['singer', 0.19], ['siwa', 0.22], ['youtube', 0.22]]\n",
      "[['lose', 0.15], ['black', 0.15], ['fire', 0.14], ['woman', 0.13], ['video', 0.17], ['go', 0.15], ['accuse', 0.21], ['amy', 0.21], ['bird', 0.21], ['brand', 0.21], ['call', 0.17], ['central', 0.21], ['cooper', 0.21], ['cop', 0.17], ['employer', 0.21], ['encounter', 0.21], ['ex', 0.17], ['firm', 0.21], ['franklin', 0.21], ['investment', 0.21], ['lawsuit', 0.17], ['park', 0.21], ['racist', 0.21], ['templeton', 0.21], ['unfairly', 0.21], ['viral', 0.21], ['watcher', 0.21]]\n",
      "[['win', 0.18], ['sunday', 0.16], ['mvp', 0.2], ['first', 0.16], ['title', 0.2], ['ace', 0.24], ['champion', 0.24], ['chelsea', 0.24], ['gray', 0.24], ['la', 0.48], ['name', 0.2], ['never', 0.24], ['professional', 0.24], ['sport', 0.24], ['vega', 0.24], ['vegas', 0.2], ['wnba', 0.24]]\n",
      "[['one', 0.18], ['sunday', 0.14], ['race', 0.29], ['say', 0.08], ['kill', 0.18], ['dead', 0.14], ['field', 0.18], ['air', 0.36], ['championship', 0.22], ['crash', 0.36], ['engine', 0.22], ['national', 0.16], ['official', 0.18], ['participate', 0.18], ['pilot', 0.22], ['plane', 0.43], ['reno', 0.22], ['single', 0.22]]\n",
      "[['democrat', 0.23], ['former', 0.2], ['house', 0.34], ['island', 0.2], ['key', 0.23], ['mayor', 0.23], ['rhode', 0.23], ['state', 0.17], ['republican', 0.23], ['electability', 0.23], ['ballot', 0.23], ['take', 0.2], ['decide', 0.27], ['district', 0.27], ['moderate', 0.27], ['popular', 0.27], ['primary', 0.27]]\n",
      "[['old', 0.19], ['year', 0.14], ['escape', 0.24], ['police', 0.18], ['man', 0.24], ['charge', 0.24], ['flee', 0.24], ['bid', 0.28], ['elizabeth', 0.21], ['expose', 0.24], ['failed', 0.28], ['mourner', 0.24], ['queen', 0.21], ['reportedly', 0.28], ['thames', 0.28], ['view', 0.28], ['wait', 0.28]]\n",
      "[['significant', 0.17], ['store', 0.17], ['american', 0.13], ['pressure', 0.17], ['well', 0.17], ['add', 0.2], ['adopt', 0.2], ['adoption', 0.2], ['categorize', 0.2], ['code', 0.2], ['express', 0.2], ['gun', 0.2], ['large', 0.2], ['likely', 0.2], ['mastercard', 0.2], ['network', 0.2], ['payment', 0.4], ['processor', 0.2], ['sale', 0.2], ['start', 0.15], ['visa', 0.4]]\n",
      "[['school', 0.37], ['survivor', 0.18], ['new', 0.13], ['family', 0.15], ['police', 0.14], ['high', 0.18], ['deadly', 0.18], ['start', 0.16], ['around', 0.22], ['community', 0.22], ['fencing', 0.22], ['finish', 0.18], ['heavy', 0.22], ['many', 0.22], ['mass', 0.22], ['patrol', 0.22], ['public', 0.18], ['shooting', 0.22], ['still', 0.16], ['texas', 0.22], ['today', 0.22], ['trust', 0.22], ['uvalde', 0.22]]\n",
      "[['james', 0.21], ['tell', 0.17], ['work', 0.14], ['audience', 0.21], ['water', 0.18], ['finally', 0.21], ['two', 0.18], ['three', 0.18], ['movie', 0.18], ['new', 0.14], ['director', 0.18], ['finish', 0.21], ['additional', 0.25], ['avatar', 0.25], ['cameron', 0.25], ['excite', 0.25], ['expo', 0.25], ['installment', 0.21], ['present', 0.25], ['scene', 0.25], ['super', 0.25], ['way', 0.21]]\n",
      "[['make', 0.1], ['say', 0.07], ['city', 0.31], ['lawsuit', 0.16], ['allow', 0.19], ['block', 0.37], ['cane', 0.19], ['difficult', 0.19], ['disability', 0.19], ['homeless', 0.19], ['people', 0.31], ['portland', 0.19], ['resident', 0.19], ['sidewalk', 0.37], ['sue', 0.19], ['tent', 0.19], ['use', 0.31], ['walker', 0.19], ['wheelchairs', 0.19]]\n",
      "[['million', 0.17], ['day', 0.14], ['water', 0.38], ['three', 0.19], ['fiona', 0.22], ['hurricane', 0.22], ['lash', 0.22], ['storm', 0.22], ['territory', 0.22], ['remain', 0.19], ['people', 0.22], ['desperate', 0.26], ['half', 0.26], ['puerto', 0.26], ['rampage', 0.26], ['ricans', 0.26], ['service', 0.22], ['without', 0.26]]\n",
      "[['two', 0.13], ['role', 0.14], ['name', 0.14], ['arbiter', 0.17], ['department', 0.17], ['judge', 0.34], ['justice', 0.14], ['lago', 0.17], ['lawyer', 0.17], ['mar', 0.17], ['probe', 0.17], ['propose', 0.52], ['retired', 0.34], ['team', 0.34], ['trump', 0.34]]\n",
      "[['world', 0.26], ['pay', 0.31], ['thousand', 0.16], ['first', 0.14], ['biden', 0.26], ['president', 0.14], ['leader', 0.35], ['elizabeth', 0.16], ['mourner', 0.18], ['queen', 0.16], ['among', 0.21], ['ii', 0.18], ['jill', 0.21], ['joe', 0.16], ['lady', 0.21], ['local', 0.21], ['respect', 0.42], ['royal', 0.21], ['tourist', 0.21]]\n",
      "[['could', 0.17], ['singer', 0.22], ['ex', 0.22], ['abuse', 0.26], ['acquittal', 0.26], ['blow', 0.26], ['denial', 0.26], ['derrell', 0.26], ['doubt', 0.26], ['employee', 0.26], ['hope', 0.26], ['kelly', 0.26], ['major', 0.26], ['mcdavid', 0.26], ['testifies', 0.26], ['testimony', 0.26]]\n",
      "[['ceremony', 0.19], ['mlb', 0.19], ['law', 0.19], ['pitch', 0.19], ['dy', 0.17], ['cop', 0.19], ['crash', 0.19], ['start', 0.17], ['way', 0.19], ['anthony', 0.23], ['atlanta', 0.23], ['brave', 0.23], ['career', 0.23], ['enforcement', 0.23], ['mostly', 0.23], ['pitcher', 0.23], ['transit', 0.23], ['turn', 0.23], ['varvaro', 0.46]]\n",
      "[['say', 0.08], ['monday', 0.19], ['biden', 0.14], ['president', 0.15], ['something', 0.19], ['national', 0.17], ['joe', 0.17], ['beating', 0.23], ['blue', 0.23], ['cancer', 0.57], ['discriminate', 0.23], ['moonshot', 0.19], ['red', 0.23], ['renew', 0.23], ['speech', 0.23], ['together', 0.23], ['unity', 0.23], ['urge', 0.23]]\n",
      "[['house', 0.1], ['court', 0.13], ['supreme', 0.13], ['participate', 0.13], ['justice', 0.13], ['activist', 0.16], ['agree', 0.32], ['clarence', 0.16], ['conservative', 0.16], ['insurrection', 0.16], ['interview', 0.32], ['investigate', 0.13], ['jan', 0.32], ['panel', 0.32], ['thomas', 0.48], ['virginia', 0.32], ['voluntary', 0.16], ['wife', 0.16]]\n",
      "[['could', 0.15], ['russian', 0.13], ['war', 0.15], ['join', 0.15], ['back', 0.13], ['region', 0.39], ['russia', 0.15], ['ukrainian', 0.15], ['week', 0.19], ['moscow', 0.19], ['effort', 0.19], ['concerted', 0.23], ['control', 0.23], ['escalate', 0.23], ['four', 0.23], ['kremlin', 0.23], ['quicken', 0.23], ['schedule', 0.23], ['set', 0.23], ['stage', 0.23], ['swallow', 0.23], ['vote', 0.23]]\n",
      "[['mark', 0.18], ['th', 0.2], ['war', 0.16], ['attack', 0.4], ['spur', 0.2], ['st', 0.2], ['remain', 0.18], ['security', 0.2], ['national', 0.18], ['still', 0.18], ['anniversary', 0.24], ['point', 0.24], ['policy', 0.24], ['reconfigured', 0.24], ['reflection', 0.24], ['reverberate', 0.24], ['september', 0.24], ['terror', 0.24], ['worldwide', 0.24]]\n",
      "[['make', 0.12], ['show', 0.19], ['find', 0.17], ['analyze', 0.23], ['character', 0.46], ['dehumanize', 0.23], ['disparage', 0.23], ['exist', 0.23], ['muslim', 0.46], ['researcher', 0.23], ['script', 0.23], ['study', 0.19], ['tv', 0.23], ['typically', 0.23], ['violent', 0.23]]\n",
      "[['say', 0.08], ['police', 0.14], ['office', 0.17], ['vegas', 0.19], ['public', 0.19], ['investigate', 0.19], ['administrator', 0.23], ['arrest', 0.23], ['clark', 0.23], ['connect', 0.23], ['county', 0.23], ['dna', 0.23], ['fatal', 0.23], ['german', 0.23], ['jeff', 0.23], ['journalist', 0.19], ['las', 0.23], ['murder', 0.23], ['politician', 0.23], ['robert', 0.23], ['stabbing', 0.23], ['telles', 0.23]]\n",
      "[['make', 0.13], ['fire', 0.17], ['help', 0.17], ['threaten', 0.21], ['thousand', 0.18], ['still', 0.18], ['california', 0.25], ['firefighter', 0.25], ['grow', 0.25], ['home', 0.25], ['huge', 0.25], ['mountain', 0.25], ['northern', 0.25], ['persists', 0.25], ['progress', 0.25], ['threat', 0.25], ['weather', 0.25], ['western', 0.25], ['wildfire', 0.25]]\n",
      "[['member', 0.36], ['black', 0.16], ['year', 0.11], ['report', 0.16], ['past', 0.18], ['american', 0.15], ['january', 0.18], ['air', 0.18], ['journalist', 0.18], ['boycott', 0.22], ['effectively', 0.22], ['globe', 0.44], ['golden', 0.22], ['hfpa', 0.22], ['hollywood', 0.22], ['include', 0.22], ['month', 0.18], ['nbc', 0.22], ['non', 0.22], ['return', 0.22]]\n",
      "[['day', 0.13], ['russia', 0.17], ['ukrainian', 0.17], ['year', 0.13], ['time', 0.17], ['take', 0.37], ['annual', 0.25], ['beautiful', 0.25], ['celebration', 0.25], ['cultural', 0.25], ['deep', 0.25], ['different', 0.25], ['drag', 0.25], ['feel', 0.25], ['festival', 0.25], ['invasion', 0.25], ['meaning', 0.25], ['sad', 0.25]]\n",
      "[['russian', 0.15], ['war', 0.34], ['house', 0.16], ['russia', 0.17], ['say', 0.09], ['body', 0.19], ['year', 0.13], ['un', 0.21], ['biden', 0.16], ['president', 0.17], ['visit', 0.21], ['white', 0.21], ['call', 0.21], ['official', 0.21], ['affront', 0.26], ['brutal', 0.26], ['charter', 0.26], ['condemnation', 0.26], ['crux', 0.26], ['full', 0.26], ['throated', 0.26]]\n",
      "[['next', 0.19], ['state', 0.14], ['back', 0.13], ['pandemic', 0.19], ['expose', 0.19], ['congress', 0.22], ['cut', 0.22], ['even', 0.22], ['insurance', 0.22], ['ready', 0.22], ['recession', 0.22], ['shortcoming', 0.22], ['step', 0.22], ['system', 0.45], ['unemployment', 0.45], ['unlikely', 0.22]]\n",
      "[['star', 0.16], ['tell', 0.15], ['join', 0.15], ['year', 0.11], ['pay', 0.16], ['elizabeth', 0.16], ['queen', 0.16], ['service', 0.18], ['ii', 0.18], ['applause', 0.22], ['concert', 0.22], ['crowd', 0.22], ['garden', 0.22], ['harry', 0.22], ['madison', 0.22], ['nyc', 0.22], ['pause', 0.22], ['performance', 0.22], ['please', 0.22], ['pop', 0.22], ['round', 0.22], ['square', 0.22], ['style', 0.22], ['tribute', 0.22], ['watch', 0.22]]\n",
      "[['low', 0.22], ['rise', 0.22], ['month', 0.22], ['basis', 0.27], ['cost', 0.27], ['fall', 0.27], ['flat', 0.27], ['gas', 0.27], ['inflation', 0.27], ['july', 0.27], ['monthly', 0.27], ['nd', 0.27], ['price', 0.27], ['reading', 0.27], ['straight', 0.27]]\n",
      "[['join', 0.16], ['new', 0.14], ['scott', 0.2], ['runner', 0.2], ['director', 0.18], ['installment', 0.2], ['amazon', 0.24], ['blade', 0.24], ['fi', 0.24], ['film', 0.24], ['franchise', 0.24], ['greenlights', 0.24], ['limited', 0.24], ['original', 0.24], ['produce', 0.24], ['ridley', 0.24], ['sci', 0.24], ['sequel', 0.24], ['series', 0.2], ['writer', 0.24]]\n",
      "[['back', 0.12], ['new', 0.12], ['biden', 0.27], ['use', 0.18], ['joe', 0.16], ['cancer', 0.36], ['moonshot', 0.18], ['study', 0.18], ['attention', 0.22], ['blood', 0.22], ['draw', 0.22], ['federally', 0.22], ['fight', 0.22], ['jfk', 0.22], ['multiple', 0.22], ['nod', 0.22], ['plan', 0.22], ['push', 0.22], ['screen', 0.22], ['seek', 0.22], ['test', 0.22], ['validate', 0.22]]\n",
      "[['say', 0.08], ['dead', 0.16], ['fear', 0.2], ['open', 0.2], ['life', 0.17], ['hold', 0.17], ['go', 0.17], ['series', 0.2], ['actor', 0.23], ['badly', 0.23], ['concuss', 0.23], ['die', 0.23], ['finale', 0.23], ['injury', 0.23], ['norman', 0.23], ['onto', 0.23], ['recover', 0.23], ['reedus', 0.23], ['shoot', 0.23], ['think', 0.23], ['walking', 0.23], ['wall', 0.23]]\n",
      "[['worker', 0.14], ['woman', 0.26], ['police', 0.13], ['time', 0.14], ['first', 0.14], ['life', 0.15], ['hold', 0.15], ['aid', 0.21], ['arrive', 0.21], ['assailant', 0.21], ['baby', 0.21], ['carjack', 0.21], ['chick', 0.21], ['fil', 0.21], ['gordon', 0.41], ['may', 0.21], ['mykel', 0.21], ['remarkably', 0.21], ['rush', 0.21], ['save', 0.41]]\n"
     ]
    }
   ],
   "source": [
    "for doc in train_tfidf[train_corpus]:\n",
    "   print([[train_dict[id], np.around(freq,decimals=2)] for id, freq in doc])"
   ]
  },
  {
   "cell_type": "code",
   "execution_count": 23,
   "id": "87c356d6",
   "metadata": {},
   "outputs": [],
   "source": [
    "vector = train_tfidf[train_corpus[0]]  # apply model to the first corpus document"
   ]
  },
  {
   "cell_type": "code",
   "execution_count": 24,
   "id": "9202b89f",
   "metadata": {},
   "outputs": [
    {
     "data": {
      "text/plain": [
       "[(0, 0.28666861522523085),\n",
       " (1, 0.28666861522523085),\n",
       " (2, 0.28666861522523085),\n",
       " (3, 0.28666861522523085),\n",
       " (4, 0.28666861522523085),\n",
       " (5, 0.19215348159476153),\n",
       " (6, 0.2394110484099962),\n",
       " (7, 0.28666861522523085),\n",
       " (8, 0.28666861522523085),\n",
       " (9, 0.2394110484099962),\n",
       " (10, 0.28666861522523085),\n",
       " (11, 0.21176714394775942),\n",
       " (12, 0.19215348159476153),\n",
       " (13, 0.28666861522523085),\n",
       " (14, 0.16450957713252476)]"
      ]
     },
     "execution_count": 24,
     "metadata": {},
     "output_type": "execute_result"
    }
   ],
   "source": [
    "vector"
   ]
  },
  {
   "cell_type": "markdown",
   "id": "d94447ae",
   "metadata": {},
   "source": [
    "## TF-IDF for test corpus"
   ]
  },
  {
   "cell_type": "code",
   "execution_count": 25,
   "id": "33c03d14",
   "metadata": {},
   "outputs": [],
   "source": [
    "test_tokenized = [simple_preprocess(line) for line in news_test['cleaned_words']]\n",
    "test_dict = corpora.Dictionary()\n",
    "test_corpus = [test_dict.doc2bow(line, allow_update=True) for line in test_tokenized]"
   ]
  },
  {
   "cell_type": "code",
   "execution_count": 26,
   "id": "d48307d9",
   "metadata": {},
   "outputs": [],
   "source": [
    "test_tfidf = TfidfModel(test_corpus, smartirs='ntc')"
   ]
  },
  {
   "cell_type": "code",
   "execution_count": null,
   "id": "734c50d0",
   "metadata": {},
   "outputs": [],
   "source": []
  }
 ],
 "metadata": {
  "kernelspec": {
   "display_name": "Python 3 (ipykernel)",
   "language": "python",
   "name": "python3"
  },
  "language_info": {
   "codemirror_mode": {
    "name": "ipython",
    "version": 3
   },
   "file_extension": ".py",
   "mimetype": "text/x-python",
   "name": "python",
   "nbconvert_exporter": "python",
   "pygments_lexer": "ipython3",
   "version": "3.9.12"
  }
 },
 "nbformat": 4,
 "nbformat_minor": 5
}
