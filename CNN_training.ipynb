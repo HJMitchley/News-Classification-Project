{
 "cells": [
  {
   "cell_type": "code",
   "execution_count": 24,
   "id": "4a4e1ef3",
   "metadata": {},
   "outputs": [],
   "source": [
    "import numpy as np\n",
    "import pandas as pd\n",
    "from tensorflow import keras\n",
    "from keras import Input\n",
    "from keras.preprocessing.text import Tokenizer\n",
    "from keras.preprocessing.sequence import pad_sequences\n",
    "from keras.regularizers import L1, L2, L1L2\n",
    "from keras.models import Sequential, Model\n",
    "from keras.layers import Dense, Flatten, Dropout, Conv1D, MaxPooling1D, GlobalMaxPooling1D\n",
    "from keras.layers.embeddings import Embedding\n",
    "from keras.callbacks import ModelCheckpoint, EarlyStopping\n",
    "from sklearn.metrics import accuracy_score, confusion_matrix, ConfusionMatrixDisplay\n",
    "import seaborn as sns\n",
    "import matplotlib.pyplot as plt\n",
    "from sklearn.metrics import classification_report\n",
    "from keras.layers import concatenate"
   ]
  },
  {
   "cell_type": "code",
   "execution_count": 25,
   "id": "e9f2f16d",
   "metadata": {},
   "outputs": [],
   "source": [
    "###load dataframes and do a bit of preprocessing of ttrain\n",
    "ttrain=pd.read_csv('./news_ttrain.csv')\n",
    "tvalid=pd.read_csv('./news_tvalid.csv')\n",
    "###Train a tokenizer and convert to integer sequences\n",
    "tokenizer=Tokenizer()\n",
    "train_list_str=ttrain['cleaned_words'].tolist()\n",
    "tokenizer.fit_on_texts(train_list_str)\n",
    "train_list = tokenizer.texts_to_sequences(train_list_str)\n",
    "###compute number of distinct words, the max length of a sequence, and pad sequences to be equal length \n",
    "tlmax_len=max([len(tlist) for tlist in train_list])\n",
    "tlnum_words=max([max(tlist) for tlist in train_list])\n",
    "train_list = pad_sequences(train_list, maxlen=tlmax_len)"
   ]
  },
  {
   "cell_type": "code",
   "execution_count": 26,
   "id": "74760d6f",
   "metadata": {},
   "outputs": [
    {
     "name": "stdout",
     "output_type": "stream",
     "text": [
      "154 55015\n"
     ]
    },
    {
     "data": {
      "text/plain": [
       "array([[    0,     0,     0, ...,  3418,    29,  9041],\n",
       "       [    0,     0,     0, ...,  1775,  9042, 32003],\n",
       "       [    0,     0,     0, ...,   150,   430,   226],\n",
       "       ...,\n",
       "       [    0,     0,     0, ...,   458,  1596,    34],\n",
       "       [    0,     0,     0, ...,   627,   189,  4577],\n",
       "       [    0,     0,     0, ...,    72,   481,     1]], dtype=int32)"
      ]
     },
     "execution_count": 26,
     "metadata": {},
     "output_type": "execute_result"
    }
   ],
   "source": [
    "print(tlmax_len, tlnum_words)\n",
    "train_list"
   ]
  },
  {
   "cell_type": "code",
   "execution_count": 27,
   "id": "ecf5a37c",
   "metadata": {},
   "outputs": [],
   "source": [
    "###now we preprocess the validation set\n",
    "valid_list_str=tvalid['cleaned_words'].tolist()\n",
    "valid_list = tokenizer.texts_to_sequences(valid_list_str)\n",
    "###need to truncate any strings that are too long, then pad to appropriate length\n",
    "valid_list = [tlist[0:tlmax_len] for tlist in valid_list]\n",
    "valid_list = pad_sequences(valid_list, maxlen=tlmax_len)"
   ]
  },
  {
   "cell_type": "code",
   "execution_count": 28,
   "id": "1819410a",
   "metadata": {},
   "outputs": [
    {
     "name": "stdout",
     "output_type": "stream",
     "text": [
      "(83720, 154)\n",
      "(20931, 154)\n"
     ]
    }
   ],
   "source": [
    "print(train_list.shape)\n",
    "print(valid_list.shape)"
   ]
  },
  {
   "cell_type": "code",
   "execution_count": 29,
   "id": "23743b2d",
   "metadata": {},
   "outputs": [
    {
     "name": "stdout",
     "output_type": "stream",
     "text": [
      "(83720, 12) (20931, 12)\n"
     ]
    },
    {
     "data": {
      "text/plain": [
       "array([[0, 0, 0, ..., 0, 0, 0],\n",
       "       [0, 0, 0, ..., 0, 0, 0],\n",
       "       [0, 0, 0, ..., 0, 1, 0],\n",
       "       ...,\n",
       "       [0, 0, 0, ..., 0, 0, 0],\n",
       "       [0, 0, 1, ..., 0, 0, 0],\n",
       "       [0, 0, 1, ..., 0, 0, 0]], dtype=uint8)"
      ]
     },
     "execution_count": 29,
     "metadata": {},
     "output_type": "execute_result"
    }
   ],
   "source": [
    "###Now we make one hot encoded y vectors for the train and validation sets\n",
    "ytrain= pd.get_dummies(ttrain['category_col']).to_numpy()\n",
    "yvalid= pd.get_dummies(tvalid['category_col']).to_numpy()\n",
    "print(ytrain.shape, yvalid.shape)\n",
    "ytrain"
   ]
  },
  {
   "cell_type": "code",
   "execution_count": 34,
   "id": "0dd7cb00",
   "metadata": {},
   "outputs": [],
   "source": [
    "###Some model hyperparameters, chosen by training different models over a set of options\n",
    "embed_len=256\n",
    "reg_param=0 ### in testing, even small regularization worsened accuracy\n",
    "lr=0.0002 ###smaller than default learning rate leads to more stable outcomes, albeit longer train times\n",
    "nfeatures=256\n",
    "\n",
    "input = Input(shape=tlmax_len)\n",
    "x = input\n",
    "x=Embedding(tlnum_words+1, embed_len, input_length=tlmax_len, mask_zero=True)(x)\n",
    "\n",
    "###Model creates 3 filters over kernels of size 2, 4, and 6. kernel arrangement chosen as the best from a list of tested options\n",
    "tower_1 = Conv1D(nfeatures, 2, padding='valid', activation='relu', kernel_regularizer=L2(reg_param))(x)\n",
    "tower_1 = GlobalMaxPooling1D() (tower_1)\n",
    "tower_2 = Conv1D(nfeatures, 4, padding='valid', activation='relu',kernel_regularizer=L2(reg_param))(x)\n",
    "tower_2 = GlobalMaxPooling1D() (tower_2)\n",
    "tower_3 = Conv1D(nfeatures, 6, padding='valid', activation='relu', kernel_regularizer=L2(reg_param))(x)\n",
    "tower_3 = GlobalMaxPooling1D() (tower_3)\n",
    "\n",
    "###Merge the output of the 3 filters, flatten, then combine their output with a dense sigmoid layer with dropout\n",
    "merged = concatenate([tower_1, tower_2, tower_3], axis=1)\n",
    "merged = Flatten()(merged)\n",
    "merged = Dropout(0.3)(merged)\n",
    "output=Dense(12, activation='sigmoid', kernel_regularizer=L1(reg_param))(merged)\n",
    "model=Model(inputs=input, outputs=output)\n",
    "###Compile model with custom choice of learning rate and binary crossentropy loss\n",
    "model.compile(optimizer=keras.optimizers.Adam(learning_rate=lr), loss='binary_crossentropy', metrics=['accuracy'])\n"
   ]
  },
  {
   "cell_type": "code",
   "execution_count": 35,
   "id": "a3f1d095",
   "metadata": {},
   "outputs": [
    {
     "name": "stdout",
     "output_type": "stream",
     "text": [
      "Epoch 1/3\n",
      "2224/2224 [==============================] - 1151s 517ms/step - loss: 0.1751 - accuracy: 0.5901 - val_loss: 0.1145 - val_accuracy: 0.7503\n",
      "Epoch 2/3\n",
      "2224/2224 [==============================] - 1179s 530ms/step - loss: 0.0938 - accuracy: 0.8040 - val_loss: 0.0935 - val_accuracy: 0.8005\n",
      "Epoch 3/3\n",
      "2224/2224 [==============================] - 1156s 520ms/step - loss: 0.0685 - accuracy: 0.8642 - val_loss: 0.0899 - val_accuracy: 0.8095\n"
     ]
    }
   ],
   "source": [
    "out=model.fit(train_list, ytrain, validation_split=0.15, epochs=3, callbacks=[es])"
   ]
  },
  {
   "cell_type": "code",
   "execution_count": 36,
   "id": "a78e2933",
   "metadata": {},
   "outputs": [
    {
     "data": {
      "text/plain": [
       "0.8132435144044718"
      ]
     },
     "execution_count": 36,
     "metadata": {},
     "output_type": "execute_result"
    }
   ],
   "source": [
    "###Generate prediction vector on the validation set \n",
    "categories = ['BLACK VOICES', 'BUSINESS', 'ENTERTAINMENT', 'FOOD & DRINK', 'PARENTING', 'POLITICS', 'QUEER VOICES', 'SPORTS', 'STYLE & BEAUTY', 'TRAVEL', 'WELLNESS', 'WORLD NEWS'] \n",
    "y_pred=model.predict(valid_list).tolist()\n",
    "ypred1=[]\n",
    "ypred2=[]\n",
    "for tlist in y_pred:\n",
    "    tmax=max(tlist)\n",
    "    temp=[1 if i==tmax else 0 for i in tlist]\n",
    "    for i, j in enumerate(temp):\n",
    "        if j==1:\n",
    "            ypred2.append(categories[i])\n",
    "    ypred1.append(temp)\n",
    "accuracy_score(ypred1, yvalid)\n"
   ]
  },
  {
   "cell_type": "code",
   "execution_count": 37,
   "id": "346666bc",
   "metadata": {},
   "outputs": [
    {
     "data": {
      "image/png": "[encoded data removed]",
      "text/plain": [
       "<Figure size 1152x1008 with 2 Axes>"
      ]
     },
     "metadata": {
      "needs_background": "light"
     },
     "output_type": "display_data"
    }
   ],
   "source": [
    "cm = confusion_matrix(tvalid['category_col'].to_list(), ypred2)\n",
    "disp = ConfusionMatrixDisplay(confusion_matrix=cm)\n",
    "labels = categories\n",
    "class_names = labels\n",
    "\n",
    "# Plot confusion matrix in a beautiful manner\n",
    "fig = plt.figure(figsize=(16, 14))\n",
    "ax= plt.subplot()\n",
    "sns.heatmap(cm, annot=True, ax = ax, fmt = 'g'); #annot=True to annotate cells\n",
    "# labels, title and ticks\n",
    "ax.set_xlabel('Predicted', fontsize=20)\n",
    "ax.xaxis.set_label_position('bottom')\n",
    "plt.xticks(rotation=90)\n",
    "ax.xaxis.set_ticklabels(class_names, fontsize = 10)\n",
    "ax.xaxis.tick_bottom()\n",
    "\n",
    "ax.set_ylabel('True', fontsize=20)\n",
    "ax.yaxis.set_ticklabels(class_names, fontsize = 10)\n",
    "plt.yticks(rotation=0)\n",
    "\n",
    "plt.title('Refined Confusion Matrix', fontsize=20)\n",
    "plt.show()"
   ]
  },
  {
   "cell_type": "code",
   "execution_count": 38,
   "id": "e5ec84bc",
   "metadata": {},
   "outputs": [
    {
     "name": "stdout",
     "output_type": "stream",
     "text": [
      "                precision    recall  f1-score   support\n",
      "\n",
      "  BLACK VOICES       0.63      0.39      0.48       668\n",
      "      BUSINESS       0.72      0.55      0.63       821\n",
      " ENTERTAINMENT       0.77      0.83      0.80      2361\n",
      "  FOOD & DRINK       0.82      0.83      0.82      1013\n",
      "     PARENTING       0.79      0.81      0.80      1973\n",
      "      POLITICS       0.85      0.90      0.88      5185\n",
      "  QUEER VOICES       0.84      0.72      0.78       895\n",
      "        SPORTS       0.82      0.71      0.76       705\n",
      "STYLE & BEAUTY       0.87      0.88      0.88      1567\n",
      "        TRAVEL       0.81      0.84      0.82      1507\n",
      "      WELLNESS       0.81      0.85      0.83      3708\n",
      "    WORLD NEWS       0.72      0.54      0.62       528\n",
      "\n",
      "     micro avg       0.81      0.81      0.81     20931\n",
      "     macro avg       0.79      0.74      0.76     20931\n",
      "  weighted avg       0.81      0.81      0.81     20931\n",
      "   samples avg       0.81      0.81      0.81     20931\n",
      "\n"
     ]
    }
   ],
   "source": [
    "print(classification_report(yvalid, ypred1,target_names=categories))"
   ]
  },
  {
   "cell_type": "code",
   "execution_count": 39,
   "id": "ae8b6715",
   "metadata": {},
   "outputs": [],
   "source": [
    "tvalid['cnn_cat_pred']= ypred2"
   ]
  },
  {
   "cell_type": "code",
   "execution_count": 41,
   "id": "272b8a43",
   "metadata": {},
   "outputs": [],
   "source": [
    "tvalid.to_pickle('./tvalid_with_pred.pkl')"
   ]
  },
  {
   "cell_type": "markdown",
   "id": "787671b3",
   "metadata": {},
   "source": [
    "The cells below were tests run to determine choices of architecture/hyperparameters for the model. They are included for informational purposes for further perusement but do not need to be run, and are not fully commented. "
   ]
  },
  {
   "cell_type": "code",
   "execution_count": 161,
   "id": "2777d7bf",
   "metadata": {},
   "outputs": [
    {
     "name": "stdout",
     "output_type": "stream",
     "text": [
      "Epoch 1/20\n",
      "2224/2224 [==============================] - 412s 185ms/step - loss: 0.1320 - accuracy: 0.7119 - val_loss: 0.0966 - val_accuracy: 0.8008\n",
      "Epoch 2/20\n",
      "2224/2224 [==============================] - 411s 185ms/step - loss: 0.0744 - accuracy: 0.8567 - val_loss: 0.0960 - val_accuracy: 0.8082\n",
      "Epoch 3/20\n",
      "2224/2224 [==============================] - 414s 186ms/step - loss: 0.0483 - accuracy: 0.9204 - val_loss: 0.1077 - val_accuracy: 0.8020\n",
      "Epoch 00003: early stopping\n",
      "Validation accuracy:\n",
      "0.800917299699011\n",
      "Epoch 1/20\n",
      "2224/2224 [==============================] - 426s 191ms/step - loss: 0.1314 - accuracy: 0.7102 - val_loss: 0.0951 - val_accuracy: 0.8026\n",
      "Epoch 2/20\n",
      "2224/2224 [==============================] - 425s 191ms/step - loss: 0.0730 - accuracy: 0.8590 - val_loss: 0.0938 - val_accuracy: 0.8115\n",
      "Epoch 3/20\n",
      "2224/2224 [==============================] - 423s 190ms/step - loss: 0.0472 - accuracy: 0.9213 - val_loss: 0.1073 - val_accuracy: 0.8036\n",
      "Epoch 00003: early stopping\n",
      "Validation accuracy:\n",
      "0.8047871578042138\n",
      "Epoch 1/20\n",
      "2224/2224 [==============================] - 479s 215ms/step - loss: 0.1294 - accuracy: 0.7166 - val_loss: 0.0958 - val_accuracy: 0.7980\n",
      "Epoch 2/20\n",
      "2224/2224 [==============================] - 484s 218ms/step - loss: 0.0712 - accuracy: 0.8640 - val_loss: 0.0969 - val_accuracy: 0.8102\n",
      "Epoch 00002: early stopping\n",
      "Validation accuracy:\n",
      "0.8091347761693183\n",
      "Epoch 1/20\n",
      "2224/2224 [==============================] - 441s 198ms/step - loss: 0.1299 - accuracy: 0.7132 - val_loss: 0.0942 - val_accuracy: 0.8055\n",
      "Epoch 2/20\n",
      "2224/2224 [==============================] - 433s 195ms/step - loss: 0.0726 - accuracy: 0.8594 - val_loss: 0.0937 - val_accuracy: 0.8103\n",
      "Epoch 3/20\n",
      "2224/2224 [==============================] - 432s 194ms/step - loss: 0.0470 - accuracy: 0.9221 - val_loss: 0.1057 - val_accuracy: 0.8012\n",
      "Epoch 00003: early stopping\n",
      "Validation accuracy:\n",
      "0.8041660694663418\n",
      "Epoch 1/20\n",
      "2224/2224 [==============================] - 396s 178ms/step - loss: 0.1333 - accuracy: 0.7074 - val_loss: 0.0965 - val_accuracy: 0.7968\n",
      "Epoch 2/20\n",
      "2224/2224 [==============================] - 399s 179ms/step - loss: 0.0761 - accuracy: 0.8507 - val_loss: 0.0930 - val_accuracy: 0.8080\n",
      "Epoch 3/20\n",
      "2224/2224 [==============================] - 396s 178ms/step - loss: 0.0502 - accuracy: 0.9137 - val_loss: 0.1047 - val_accuracy: 0.7992\n",
      "Epoch 00003: early stopping\n",
      "Validation accuracy:\n",
      "0.805742678324017\n"
     ]
    }
   ],
   "source": [
    "tlist=[[3, 4, 5], [2, 4, 6], [3, 5, 7], [1, 4, 7], [1, 3, 5]]\n",
    "reg_param=0.000001\n",
    "categories = ['BLACK VOICES', 'BUSINESS', 'ENTERTAINMENT', 'FOOD & DRINK', 'PARENTING', 'POLITICS', 'QUEER VOICES', 'SPORTS', 'STYLE & BEAUTY', 'TRAVEL', 'WELLNESS', 'WORLD NEWS'] \n",
    "for temp in tlist:\n",
    "    input = Input(shape=tlmax_len)\n",
    "    x = input\n",
    "    x=Embedding(tlnum_words+1, 64, input_length=tlmax_len, mask_zero=True)(x)\n",
    "\n",
    "    tower_1 = Conv1D(300, temp[0], padding='valid', activation='relu', kernel_regularizer=L2(reg_param))(x)\n",
    "    tower_1 = GlobalMaxPooling1D() (tower_1)\n",
    "    tower_2 = Conv1D(300, temp[1], padding='valid', activation='relu',kernel_regularizer=L2(reg_param))(x)\n",
    "    tower_2 = GlobalMaxPooling1D() (tower_2)\n",
    "    tower_3 = Conv1D(300, temp[2], padding='valid', activation='relu', kernel_regularizer=L2(reg_param))(x)\n",
    "    tower_3 = GlobalMaxPooling1D() (tower_3)\n",
    "\n",
    "    merged = concatenate([tower_1, tower_2, tower_3], axis=1)\n",
    "    merged = Flatten()(merged)\n",
    "    merged = Dropout(0.3)(merged)\n",
    "    output=Dense(12, activation='sigmoid', kernel_regularizer=L1(reg_param))(merged)\n",
    "    model=Model(inputs=input, outputs=output)\n",
    "    model.compile(optimizer='adam', loss='binary_crossentropy', metrics=['accuracy'])\n",
    "    es = EarlyStopping(monitor='val_loss', patience=1, verbose=1)\n",
    "    yeet = model.fit(train_list, ytrain, validation_split=0.15, epochs=20, callbacks=[es])\n",
    "    y_pred=model.predict(valid_list).tolist()\n",
    "    ypred1=[]\n",
    "    ypred2=[]\n",
    "    for tlist in y_pred:\n",
    "        tmax=max(tlist)\n",
    "        temp=[1 if i==tmax else 0 for i in tlist]\n",
    "        for i, j in enumerate(temp):\n",
    "            if j==1:\n",
    "                ypred2.append(categories[i])\n",
    "        ypred1.append(temp)\n",
    "    print(\"Validation accuracy:\")\n",
    "    print(accuracy_score(ypred1, yvalid))"
   ]
  },
  {
   "cell_type": "code",
   "execution_count": 160,
   "id": "5ade635a",
   "metadata": {},
   "outputs": [
    {
     "name": "stdout",
     "output_type": "stream",
     "text": [
      "Epoch 1/20\n",
      "2224/2224 [==============================] - 215s 96ms/step - loss: 0.1566 - accuracy: 0.6473 - val_loss: 0.1112 - val_accuracy: 0.7577\n",
      "Epoch 2/20\n",
      "2224/2224 [==============================] - 205s 92ms/step - loss: 0.1037 - accuracy: 0.7821 - val_loss: 0.1002 - val_accuracy: 0.7846\n",
      "Epoch 3/20\n",
      "2224/2224 [==============================] - 208s 94ms/step - loss: 0.0867 - accuracy: 0.8228 - val_loss: 0.0990 - val_accuracy: 0.7884\n",
      "Epoch 4/20\n",
      "2224/2224 [==============================] - 200s 90ms/step - loss: 0.0735 - accuracy: 0.8586 - val_loss: 0.1027 - val_accuracy: 0.7846\n",
      "Epoch 00004: early stopping\n",
      "Validation accuracy:\n",
      "0.789737709617314\n",
      "Epoch 1/20\n",
      "2224/2224 [==============================] - 211s 95ms/step - loss: 0.1509 - accuracy: 0.6615 - val_loss: 0.1051 - val_accuracy: 0.7743\n",
      "Epoch 2/20\n",
      "2224/2224 [==============================] - 220s 99ms/step - loss: 0.0927 - accuracy: 0.8098 - val_loss: 0.0965 - val_accuracy: 0.7960\n",
      "Epoch 3/20\n",
      "2224/2224 [==============================] - 223s 100ms/step - loss: 0.0693 - accuracy: 0.8684 - val_loss: 0.0984 - val_accuracy: 0.8013\n",
      "Epoch 00003: early stopping\n",
      "Validation accuracy:\n",
      "0.7989584826334145\n",
      "Epoch 1/20\n",
      "2224/2224 [==============================] - 252s 113ms/step - loss: 0.1477 - accuracy: 0.6681 - val_loss: 0.1025 - val_accuracy: 0.7784\n",
      "Epoch 2/20\n",
      "2224/2224 [==============================] - 246s 110ms/step - loss: 0.0873 - accuracy: 0.8249 - val_loss: 0.0940 - val_accuracy: 0.8027\n",
      "Epoch 3/20\n",
      "2224/2224 [==============================] - 248s 111ms/step - loss: 0.0619 - accuracy: 0.8855 - val_loss: 0.1000 - val_accuracy: 0.8042\n",
      "Epoch 00003: early stopping\n",
      "Validation accuracy:\n",
      "0.8050738139601548\n",
      "Epoch 1/20\n",
      "2224/2224 [==============================] - 277s 124ms/step - loss: 0.1441 - accuracy: 0.6778 - val_loss: 0.0994 - val_accuracy: 0.7881\n",
      "Epoch 2/20\n",
      "2224/2224 [==============================] - 263s 118ms/step - loss: 0.0828 - accuracy: 0.8348 - val_loss: 0.0931 - val_accuracy: 0.8059\n",
      "Epoch 3/20\n",
      "2224/2224 [==============================] - 264s 119ms/step - loss: 0.0568 - accuracy: 0.8965 - val_loss: 0.1017 - val_accuracy: 0.7996\n",
      "Epoch 00003: early stopping\n",
      "Validation accuracy:\n",
      "0.8050260379341646\n",
      "Epoch 1/20\n",
      "2224/2224 [==============================] - 342s 153ms/step - loss: 0.1410 - accuracy: 0.6853 - val_loss: 0.0977 - val_accuracy: 0.7930\n",
      "Epoch 2/20\n",
      "2224/2224 [==============================] - 344s 155ms/step - loss: 0.0796 - accuracy: 0.8427 - val_loss: 0.0927 - val_accuracy: 0.8046\n",
      "Epoch 3/20\n",
      "2224/2224 [==============================] - 343s 154ms/step - loss: 0.0534 - accuracy: 0.9030 - val_loss: 0.1026 - val_accuracy: 0.7996\n",
      "Epoch 00003: early stopping\n",
      "Validation accuracy:\n",
      "0.8038316372844106\n",
      "Epoch 1/20\n",
      "2224/2224 [==============================] - 366s 164ms/step - loss: 0.1384 - accuracy: 0.6930 - val_loss: 0.0963 - val_accuracy: 0.7965\n",
      "Epoch 2/20\n",
      "2224/2224 [==============================] - 369s 166ms/step - loss: 0.0770 - accuracy: 0.8488 - val_loss: 0.0931 - val_accuracy: 0.8067\n",
      "Epoch 3/20\n",
      "2224/2224 [==============================] - 376s 169ms/step - loss: 0.0506 - accuracy: 0.9090 - val_loss: 0.1043 - val_accuracy: 0.7985\n",
      "Epoch 00003: early stopping\n",
      "Validation accuracy:\n",
      "0.8007261955950504\n",
      "Epoch 1/20\n",
      "2224/2224 [==============================] - 413s 186ms/step - loss: 0.1374 - accuracy: 0.6949 - val_loss: 0.0956 - val_accuracy: 0.7968\n",
      "Epoch 2/20\n",
      "2224/2224 [==============================] - 394s 177ms/step - loss: 0.0754 - accuracy: 0.8516 - val_loss: 0.0928 - val_accuracy: 0.8106\n",
      "Epoch 3/20\n",
      "2224/2224 [==============================] - 379s 170ms/step - loss: 0.0492 - accuracy: 0.9126 - val_loss: 0.1053 - val_accuracy: 0.7996\n",
      "Epoch 00003: early stopping\n",
      "Validation accuracy:\n",
      "0.8015861640628732\n"
     ]
    }
   ],
   "source": [
    "tlist=[1, 2, 3, 4, 5, 6, 7]\n",
    "categories = ['BLACK VOICES', 'BUSINESS', 'ENTERTAINMENT', 'FOOD & DRINK', 'PARENTING', 'POLITICS', 'QUEER VOICES', 'SPORTS', 'STYLE & BEAUTY', 'TRAVEL', 'WELLNESS', 'WORLD NEWS'] \n",
    "for width in tlist:\n",
    "    model = Sequential() \n",
    "    model.add(Embedding(tlnum_words+1, 64, input_length=tlmax_len, mask_zero=True)) \n",
    "    model.add(Conv1D(500, width, padding='same', activation='relu'))\n",
    "    model.add(GlobalMaxPooling1D())\n",
    "    model.add(Dropout(0.3))\n",
    "    model.add(Dense(12, activation='sigmoid'))\n",
    "    model.compile(optimizer='adam', loss='binary_crossentropy', metrics=['accuracy'])\n",
    "    es = EarlyStopping(monitor='val_loss', patience=1, verbose=1)\n",
    "    yeet = model.fit(train_list, ytrain, validation_split=0.15, epochs=20, callbacks=[es])\n",
    "    y_pred=model.predict(valid_list).tolist()\n",
    "    ypred1=[]\n",
    "    ypred2=[]\n",
    "    for tlist in y_pred:\n",
    "        tmax=max(tlist)\n",
    "        temp=[1 if i==tmax else 0 for i in tlist]\n",
    "        for i, j in enumerate(temp):\n",
    "            if j==1:\n",
    "                ypred2.append(categories[i])\n",
    "        ypred1.append(temp)\n",
    "    print(\"Validation accuracy:\")\n",
    "    print(accuracy_score(ypred1, yvalid))"
   ]
  },
  {
   "cell_type": "code",
   "execution_count": 163,
   "id": "292e5bb1",
   "metadata": {},
   "outputs": [
    {
     "name": "stdout",
     "output_type": "stream",
     "text": [
      "Epoch 1/20\n",
      "2224/2224 [==============================] - 489s 219ms/step - loss: 0.1314 - accuracy: 0.7114 - val_loss: 0.0950 - val_accuracy: 0.7999\n",
      "Epoch 2/20\n",
      "2224/2224 [==============================] - 500s 225ms/step - loss: 0.0731 - accuracy: 0.8596 - val_loss: 0.0954 - val_accuracy: 0.8076\n",
      "Epoch 00002: early stopping\n"
     ]
    }
   ],
   "source": [
    "input = Input(shape=tlmax_len)\n",
    "x = input\n",
    "x=Embedding(tlnum_words+1, 64, input_length=tlmax_len, mask_zero=True)(x)\n",
    "\n",
    "tower_1 = Conv1D(130, 1, padding='valid', activation='relu', kernel_regularizer=L2(reg_param))(x)\n",
    "tower_1 = GlobalMaxPooling1D() (tower_1)\n",
    "tower_2 = Conv1D(130, 2, padding='valid', activation='relu',kernel_regularizer=L2(reg_param))(x)\n",
    "tower_2 = GlobalMaxPooling1D() (tower_2)\n",
    "tower_3 = Conv1D(130, 3, padding='valid', activation='relu', kernel_regularizer=L2(reg_param))(x)\n",
    "tower_3 = GlobalMaxPooling1D() (tower_3)\n",
    "tower_4 = Conv1D(130, 4, padding='valid', activation='relu', kernel_regularizer=L2(reg_param))(x)\n",
    "tower_4 = GlobalMaxPooling1D() (tower_4)\n",
    "tower_5 = Conv1D(130, 5, padding='valid', activation='relu',kernel_regularizer=L2(reg_param))(x)\n",
    "tower_5 = GlobalMaxPooling1D() (tower_5)\n",
    "tower_6 = Conv1D(130, 6, padding='valid', activation='relu', kernel_regularizer=L2(reg_param))(x)\n",
    "tower_6 = GlobalMaxPooling1D() (tower_6)\n",
    "tower_7 = Conv1D(130, 7, padding='valid', activation='relu', kernel_regularizer=L2(reg_param))(x)\n",
    "tower_7 = GlobalMaxPooling1D() (tower_7)\n",
    "\n",
    "merged = concatenate([tower_1, tower_2, tower_3, tower_4, tower_5, tower_6, tower_7], axis=1)\n",
    "merged = Flatten()(merged)\n",
    "merged = Dropout(0.3)(merged)\n",
    "output=Dense(12, activation='sigmoid', kernel_regularizer=L1(reg_param))(merged)\n",
    "model=Model(inputs=input, outputs=output)\n",
    "model.compile(optimizer='adam', loss='binary_crossentropy', metrics=['accuracy'])\n",
    "es = EarlyStopping(monitor='val_loss', patience=1, verbose=1)\n",
    "yeet = model.fit(train_list, ytrain, validation_split=0.15, epochs=20, callbacks=[es])"
   ]
  },
  {
   "cell_type": "code",
   "execution_count": 23,
   "id": "12056c4e",
   "metadata": {},
   "outputs": [
    {
     "name": "stdout",
     "output_type": "stream",
     "text": [
      "Epoch 1/20\n",
      "2224/2224 [==============================] - 329s 147ms/step - loss: 0.2047 - accuracy: 0.5099 - val_loss: 0.1382 - val_accuracy: 0.6901\n",
      "Epoch 2/20\n",
      "2224/2224 [==============================] - 322s 145ms/step - loss: 0.1185 - accuracy: 0.7406 - val_loss: 0.1115 - val_accuracy: 0.7550\n",
      "Epoch 3/20\n",
      "2224/2224 [==============================] - 323s 145ms/step - loss: 0.0922 - accuracy: 0.8089 - val_loss: 0.0987 - val_accuracy: 0.7875\n",
      "Epoch 4/20\n",
      "2224/2224 [==============================] - 320s 144ms/step - loss: 0.0742 - accuracy: 0.8518 - val_loss: 0.0936 - val_accuracy: 0.8036\n",
      "Epoch 5/20\n",
      "2224/2224 [==============================] - 323s 145ms/step - loss: 0.0614 - accuracy: 0.8830 - val_loss: 0.0942 - val_accuracy: 0.8075\n",
      "Epoch 00005: early stopping\n",
      "Validation accuracy:\n",
      "0.8095169843772395\n",
      "Epoch 1/20\n",
      "2224/2224 [==============================] - 599s 269ms/step - loss: 0.1890 - accuracy: 0.5523 - val_loss: 0.1248 - val_accuracy: 0.7169\n",
      "Epoch 2/20\n",
      "2224/2224 [==============================] - 597s 269ms/step - loss: 0.1046 - accuracy: 0.7763 - val_loss: 0.1003 - val_accuracy: 0.7852\n",
      "Epoch 3/20\n",
      "2224/2224 [==============================] - 600s 270ms/step - loss: 0.0785 - accuracy: 0.8405 - val_loss: 0.0921 - val_accuracy: 0.8047\n",
      "Epoch 4/20\n",
      "2224/2224 [==============================] - 600s 270ms/step - loss: 0.0615 - accuracy: 0.8817 - val_loss: 0.0916 - val_accuracy: 0.8115\n",
      "Epoch 5/20\n",
      "2224/2224 [==============================] - 602s 270ms/step - loss: 0.0482 - accuracy: 0.9140 - val_loss: 0.0955 - val_accuracy: 0.8091\n",
      "Epoch 00005: early stopping\n",
      "Validation accuracy:\n",
      "0.8118580096507573\n",
      "Epoch 1/20\n",
      "2224/2224 [==============================] - 1196s 537ms/step - loss: 0.1757 - accuracy: 0.5870 - val_loss: 0.1151 - val_accuracy: 0.7439\n",
      "Epoch 2/20\n",
      "2224/2224 [==============================] - 1199s 539ms/step - loss: 0.0940 - accuracy: 0.8028 - val_loss: 0.0939 - val_accuracy: 0.7987\n",
      "Epoch 3/20\n",
      "2224/2224 [==============================] - 1214s 546ms/step - loss: 0.0686 - accuracy: 0.8636 - val_loss: 0.0899 - val_accuracy: 0.8151\n",
      "Epoch 4/20\n",
      "2224/2224 [==============================] - 1204s 541ms/step - loss: 0.0511 - accuracy: 0.9060 - val_loss: 0.0927 - val_accuracy: 0.8122\n",
      "Epoch 00004: early stopping\n",
      "Validation accuracy:\n",
      "0.813912378768334\n"
     ]
    }
   ],
   "source": [
    "tlist=[64, 128, 256]\n",
    "reg_param=0.0000002\n",
    "lr=0.0002\n",
    "nfeatures=256\n",
    "categories = ['BLACK VOICES', 'BUSINESS', 'ENTERTAINMENT', 'FOOD & DRINK', 'PARENTING', 'POLITICS', 'QUEER VOICES', 'SPORTS', 'STYLE & BEAUTY', 'TRAVEL', 'WELLNESS', 'WORLD NEWS'] \n",
    "for embed_len in tlist:\n",
    "    input = Input(shape=tlmax_len)\n",
    "    x = input\n",
    "    x=Embedding(tlnum_words+1, embed_len, input_length=tlmax_len, mask_zero=True)(x)\n",
    "\n",
    "    tower_1 = Conv1D(nfeatures, 2, padding='valid', activation='relu', kernel_regularizer=L2(reg_param))(x)\n",
    "    tower_1 = GlobalMaxPooling1D() (tower_1)\n",
    "    tower_2 = Conv1D(nfeatures, 4, padding='valid', activation='relu',kernel_regularizer=L2(reg_param))(x)\n",
    "    tower_2 = GlobalMaxPooling1D() (tower_2)\n",
    "    tower_3 = Conv1D(nfeatures, 6, padding='valid', activation='relu', kernel_regularizer=L2(reg_param))(x)\n",
    "    tower_3 = GlobalMaxPooling1D() (tower_3)\n",
    "\n",
    "    merged = concatenate([tower_1, tower_2, tower_3], axis=1)\n",
    "    merged = Flatten()(merged)\n",
    "    merged = Dropout(0.3)(merged)\n",
    "    output=Dense(12, activation='sigmoid', kernel_regularizer=L1(reg_param))(merged)\n",
    "    model=Model(inputs=input, outputs=output)\n",
    "    model.compile(optimizer=keras.optimizers.Adam(learning_rate=lr), loss='binary_crossentropy', metrics=['accuracy'])\n",
    "    es = EarlyStopping(monitor='val_loss', patience=1, verbose=1)\n",
    "    yeet = model.fit(train_list, ytrain, validation_split=0.15, epochs=20, callbacks=[es])\n",
    "    y_pred=model.predict(valid_list).tolist()\n",
    "    ypred1=[]\n",
    "    ypred2=[]\n",
    "    for tlist in y_pred:\n",
    "        tmax=max(tlist)\n",
    "        temp=[1 if i==tmax else 0 for i in tlist]\n",
    "        for i, j in enumerate(temp):\n",
    "            if j==1:\n",
    "                ypred2.append(categories[i])\n",
    "        ypred1.append(temp)\n",
    "    print(\"Validation accuracy:\")\n",
    "    print(accuracy_score(ypred1, yvalid))"
   ]
  }
 ],
 "metadata": {
  "kernelspec": {
   "display_name": "Python 3 (ipykernel)",
   "language": "python",
   "name": "python3"
  },
  "language_info": {
   "codemirror_mode": {
    "name": "ipython",
    "version": 3
   },
   "file_extension": ".py",
   "mimetype": "text/x-python",
   "name": "python",
   "nbconvert_exporter": "python",
   "pygments_lexer": "ipython3",
   "version": "3.10.4"
  }
 },
 "nbformat": 4,
 "nbformat_minor": 5
}
