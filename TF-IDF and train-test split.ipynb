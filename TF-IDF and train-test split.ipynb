{
 "cells": [
  {
   "cell_type": "code",
   "execution_count": 1,
   "id": "ad77da48",
   "metadata": {},
   "outputs": [],
   "source": [
    "import pandas as pd\n",
    "from sklearn.feature_extraction.text import TfidfVectorizer\n",
    "from sklearn.model_selection import train_test_split"
   ]
  },
  {
   "cell_type": "code",
   "execution_count": 39,
   "id": "d75a4cc8",
   "metadata": {},
   "outputs": [],
   "source": [
    "og_df = pd.read_csv(\"News_ds_cleaned.csv\")"
   ]
  },
  {
   "cell_type": "markdown",
   "id": "b7f76539",
   "metadata": {},
   "source": [
    "## Making a df with relevant entries"
   ]
  },
  {
   "cell_type": "code",
   "execution_count": 3,
   "id": "da891ce9",
   "metadata": {},
   "outputs": [],
   "source": [
    "## Conjoin categories which are essentially the same, just different names; specifically\n",
    "## \"PARENTS\" and \"PARENTING\"  |  \"WELLNESS\" and \"HEALTY LIVING\"\n",
    "# og_df.loc[og_df.category == \"PARENTS\", 'category'] = \"PARENTING\"\n",
    "# og_df.loc[og_df.category == \"HEALTHY LIVING\", 'category'] = \"WELLNESS\""
   ]
  },
  {
   "cell_type": "code",
   "execution_count": 88,
   "id": "78c2b4fa",
   "metadata": {},
   "outputs": [],
   "source": [
    "## create new df with only categories we want\n",
    "curated_cats = [\"POLITICS\", \"WELLNESS\", \"ENTERTAINMENT\"] # \"TRAVEL\", \"PARENTING\", , \"STYLE & BEAUTY\"\n",
    "                #\"QUEER VOICES\", \"FOOD & DRINK\", \"BUSINESS\", # \"SPORTS\", \"BLACK VOICES\", \"WORLD NEWS\"]\n",
    "\n",
    "df = og_df.loc[og_df['category'].isin(curated_cats)]"
   ]
  },
  {
   "cell_type": "code",
   "execution_count": 89,
   "id": "01085fc7",
   "metadata": {},
   "outputs": [],
   "source": [
    "## drop entries where headline/short_description ends up null\n",
    "df = df[df['short_description_cleaned'].notna()]\n",
    "df = df[df['headline_cleaned'].notna()]"
   ]
  },
  {
   "cell_type": "code",
   "execution_count": 90,
   "id": "f5613e24",
   "metadata": {
    "scrolled": true
   },
   "outputs": [
    {
     "data": {
      "text/html": [
       "<div>\n",
       "<style scoped>\n",
       "    .dataframe tbody tr th:only-of-type {\n",
       "        vertical-align: middle;\n",
       "    }\n",
       "\n",
       "    .dataframe tbody tr th {\n",
       "        vertical-align: top;\n",
       "    }\n",
       "\n",
       "    .dataframe thead th {\n",
       "        text-align: right;\n",
       "    }\n",
       "</style>\n",
       "<table border=\"1\" class=\"dataframe\">\n",
       "  <thead>\n",
       "    <tr style=\"text-align: right;\">\n",
       "      <th></th>\n",
       "      <th>Unnamed: 0</th>\n",
       "      <th>link</th>\n",
       "      <th>headline</th>\n",
       "      <th>category</th>\n",
       "      <th>short_description</th>\n",
       "      <th>authors</th>\n",
       "      <th>date</th>\n",
       "      <th>headline_cleaned</th>\n",
       "      <th>short_description_cleaned</th>\n",
       "    </tr>\n",
       "  </thead>\n",
       "  <tbody>\n",
       "    <tr>\n",
       "      <th>20</th>\n",
       "      <td>20</td>\n",
       "      <td>https://www.huffpost.com/entry/golden-globes-r...</td>\n",
       "      <td>Golden Globes Returning To NBC In January Afte...</td>\n",
       "      <td>ENTERTAINMENT</td>\n",
       "      <td>For the past 18 months, Hollywood has effectiv...</td>\n",
       "      <td>NaN</td>\n",
       "      <td>2022-09-20</td>\n",
       "      <td>golden globe return nbc january year air</td>\n",
       "      <td>past 18 month hollywood effectively boycott gl...</td>\n",
       "    </tr>\n",
       "    <tr>\n",
       "      <th>21</th>\n",
       "      <td>21</td>\n",
       "      <td>https://www.huffpost.com/entry/biden-us-forces...</td>\n",
       "      <td>Biden Says U.S. Forces Would Defend Taiwan If ...</td>\n",
       "      <td>POLITICS</td>\n",
       "      <td>President issues vow as tensions with China rise.</td>\n",
       "      <td>NaN</td>\n",
       "      <td>2022-09-19</td>\n",
       "      <td>biden say u.s force would defend taiwan china ...</td>\n",
       "      <td>president issue vow tension china rise</td>\n",
       "    </tr>\n",
       "  </tbody>\n",
       "</table>\n",
       "</div>"
      ],
      "text/plain": [
       "    Unnamed: 0                                               link  \\\n",
       "20          20  https://www.huffpost.com/entry/golden-globes-r...   \n",
       "21          21  https://www.huffpost.com/entry/biden-us-forces...   \n",
       "\n",
       "                                             headline       category  \\\n",
       "20  Golden Globes Returning To NBC In January Afte...  ENTERTAINMENT   \n",
       "21  Biden Says U.S. Forces Would Defend Taiwan If ...       POLITICS   \n",
       "\n",
       "                                    short_description authors        date  \\\n",
       "20  For the past 18 months, Hollywood has effectiv...     NaN  2022-09-20   \n",
       "21  President issues vow as tensions with China rise.     NaN  2022-09-19   \n",
       "\n",
       "                                     headline_cleaned  \\\n",
       "20           golden globe return nbc january year air   \n",
       "21  biden say u.s force would defend taiwan china ...   \n",
       "\n",
       "                            short_description_cleaned  \n",
       "20  past 18 month hollywood effectively boycott gl...  \n",
       "21             president issue vow tension china rise  "
      ]
     },
     "execution_count": 90,
     "metadata": {},
     "output_type": "execute_result"
    }
   ],
   "source": [
    "df.head(2)"
   ]
  },
  {
   "cell_type": "code",
   "execution_count": 91,
   "id": "bf118232",
   "metadata": {},
   "outputs": [],
   "source": [
    "## reset the indices\n",
    "## Need this in order to accurately match the rows in this df with their if-tdf vectors\n",
    "df = df.reset_index(drop=True)\n",
    "\n",
    "## drop the second column of indices\n",
    "df.drop('Unnamed: 0', axis=1, inplace=True)"
   ]
  },
  {
   "cell_type": "code",
   "execution_count": 92,
   "id": "7e2ec509",
   "metadata": {},
   "outputs": [],
   "source": [
    "## create new column with two cleaned cells concatenated\n",
    "df['cleaned_words'] = df['headline_cleaned'] + ' ' + df['short_description_cleaned']"
   ]
  },
  {
   "cell_type": "code",
   "execution_count": 93,
   "id": "5b0009b9",
   "metadata": {
    "scrolled": true
   },
   "outputs": [
    {
     "data": {
      "text/html": [
       "<div>\n",
       "<style scoped>\n",
       "    .dataframe tbody tr th:only-of-type {\n",
       "        vertical-align: middle;\n",
       "    }\n",
       "\n",
       "    .dataframe tbody tr th {\n",
       "        vertical-align: top;\n",
       "    }\n",
       "\n",
       "    .dataframe thead th {\n",
       "        text-align: right;\n",
       "    }\n",
       "</style>\n",
       "<table border=\"1\" class=\"dataframe\">\n",
       "  <thead>\n",
       "    <tr style=\"text-align: right;\">\n",
       "      <th></th>\n",
       "      <th>link</th>\n",
       "      <th>headline</th>\n",
       "      <th>category</th>\n",
       "      <th>short_description</th>\n",
       "      <th>authors</th>\n",
       "      <th>date</th>\n",
       "      <th>headline_cleaned</th>\n",
       "      <th>short_description_cleaned</th>\n",
       "      <th>cleaned_words</th>\n",
       "    </tr>\n",
       "  </thead>\n",
       "  <tbody>\n",
       "    <tr>\n",
       "      <th>0</th>\n",
       "      <td>https://www.huffpost.com/entry/golden-globes-r...</td>\n",
       "      <td>Golden Globes Returning To NBC In January Afte...</td>\n",
       "      <td>ENTERTAINMENT</td>\n",
       "      <td>For the past 18 months, Hollywood has effectiv...</td>\n",
       "      <td>NaN</td>\n",
       "      <td>2022-09-20</td>\n",
       "      <td>golden globe return nbc january year air</td>\n",
       "      <td>past 18 month hollywood effectively boycott gl...</td>\n",
       "      <td>golden globe return nbc january year air past ...</td>\n",
       "    </tr>\n",
       "    <tr>\n",
       "      <th>1</th>\n",
       "      <td>https://www.huffpost.com/entry/biden-us-forces...</td>\n",
       "      <td>Biden Says U.S. Forces Would Defend Taiwan If ...</td>\n",
       "      <td>POLITICS</td>\n",
       "      <td>President issues vow as tensions with China rise.</td>\n",
       "      <td>NaN</td>\n",
       "      <td>2022-09-19</td>\n",
       "      <td>biden say u.s force would defend taiwan china ...</td>\n",
       "      <td>president issue vow tension china rise</td>\n",
       "      <td>biden say u.s force would defend taiwan china ...</td>\n",
       "    </tr>\n",
       "  </tbody>\n",
       "</table>\n",
       "</div>"
      ],
      "text/plain": [
       "                                                link  \\\n",
       "0  https://www.huffpost.com/entry/golden-globes-r...   \n",
       "1  https://www.huffpost.com/entry/biden-us-forces...   \n",
       "\n",
       "                                            headline       category  \\\n",
       "0  Golden Globes Returning To NBC In January Afte...  ENTERTAINMENT   \n",
       "1  Biden Says U.S. Forces Would Defend Taiwan If ...       POLITICS   \n",
       "\n",
       "                                   short_description authors        date  \\\n",
       "0  For the past 18 months, Hollywood has effectiv...     NaN  2022-09-20   \n",
       "1  President issues vow as tensions with China rise.     NaN  2022-09-19   \n",
       "\n",
       "                                    headline_cleaned  \\\n",
       "0           golden globe return nbc january year air   \n",
       "1  biden say u.s force would defend taiwan china ...   \n",
       "\n",
       "                           short_description_cleaned  \\\n",
       "0  past 18 month hollywood effectively boycott gl...   \n",
       "1             president issue vow tension china rise   \n",
       "\n",
       "                                       cleaned_words  \n",
       "0  golden globe return nbc january year air past ...  \n",
       "1  biden say u.s force would defend taiwan china ...  "
      ]
     },
     "execution_count": 93,
     "metadata": {},
     "output_type": "execute_result"
    }
   ],
   "source": [
    "df.head(2)"
   ]
  },
  {
   "cell_type": "code",
   "execution_count": 94,
   "id": "79dd9020",
   "metadata": {
    "scrolled": true
   },
   "outputs": [
    {
     "name": "stdout",
     "output_type": "stream",
     "text": [
      "<class 'pandas.core.frame.DataFrame'>\n",
      "RangeIndex: 65078 entries, 0 to 65077\n",
      "Data columns (total 9 columns):\n",
      " #   Column                     Non-Null Count  Dtype \n",
      "---  ------                     --------------  ----- \n",
      " 0   link                       65078 non-null  object\n",
      " 1   headline                   65078 non-null  object\n",
      " 2   category                   65078 non-null  object\n",
      " 3   short_description          65078 non-null  object\n",
      " 4   authors                    56031 non-null  object\n",
      " 5   date                       65078 non-null  object\n",
      " 6   headline_cleaned           65078 non-null  object\n",
      " 7   short_description_cleaned  65078 non-null  object\n",
      " 8   cleaned_words              65078 non-null  object\n",
      "dtypes: object(9)\n",
      "memory usage: 4.5+ MB\n"
     ]
    }
   ],
   "source": [
    "df.info()"
   ]
  },
  {
   "cell_type": "code",
   "execution_count": 95,
   "id": "c4ae15ff",
   "metadata": {},
   "outputs": [
    {
     "data": {
      "text/html": [
       "<div>\n",
       "<style scoped>\n",
       "    .dataframe tbody tr th:only-of-type {\n",
       "        vertical-align: middle;\n",
       "    }\n",
       "\n",
       "    .dataframe tbody tr th {\n",
       "        vertical-align: top;\n",
       "    }\n",
       "\n",
       "    .dataframe thead th {\n",
       "        text-align: right;\n",
       "    }\n",
       "</style>\n",
       "<table border=\"1\" class=\"dataframe\">\n",
       "  <thead>\n",
       "    <tr style=\"text-align: right;\">\n",
       "      <th></th>\n",
       "      <th>link</th>\n",
       "      <th>headline</th>\n",
       "      <th>short_description</th>\n",
       "      <th>authors</th>\n",
       "      <th>date</th>\n",
       "      <th>headline_cleaned</th>\n",
       "      <th>short_description_cleaned</th>\n",
       "      <th>cleaned_words</th>\n",
       "    </tr>\n",
       "    <tr>\n",
       "      <th>category</th>\n",
       "      <th></th>\n",
       "      <th></th>\n",
       "      <th></th>\n",
       "      <th></th>\n",
       "      <th></th>\n",
       "      <th></th>\n",
       "      <th></th>\n",
       "      <th></th>\n",
       "    </tr>\n",
       "  </thead>\n",
       "  <tbody>\n",
       "    <tr>\n",
       "      <th>ENTERTAINMENT</th>\n",
       "      <td>14754</td>\n",
       "      <td>14754</td>\n",
       "      <td>14754</td>\n",
       "      <td>13443</td>\n",
       "      <td>14754</td>\n",
       "      <td>14754</td>\n",
       "      <td>14754</td>\n",
       "      <td>14754</td>\n",
       "    </tr>\n",
       "    <tr>\n",
       "      <th>WELLNESS</th>\n",
       "      <td>17922</td>\n",
       "      <td>17922</td>\n",
       "      <td>17922</td>\n",
       "      <td>12927</td>\n",
       "      <td>17922</td>\n",
       "      <td>17922</td>\n",
       "      <td>17922</td>\n",
       "      <td>17922</td>\n",
       "    </tr>\n",
       "    <tr>\n",
       "      <th>POLITICS</th>\n",
       "      <td>32402</td>\n",
       "      <td>32402</td>\n",
       "      <td>32402</td>\n",
       "      <td>29661</td>\n",
       "      <td>32402</td>\n",
       "      <td>32402</td>\n",
       "      <td>32402</td>\n",
       "      <td>32402</td>\n",
       "    </tr>\n",
       "  </tbody>\n",
       "</table>\n",
       "</div>"
      ],
      "text/plain": [
       "                link  headline  short_description  authors   date  \\\n",
       "category                                                            \n",
       "ENTERTAINMENT  14754     14754              14754    13443  14754   \n",
       "WELLNESS       17922     17922              17922    12927  17922   \n",
       "POLITICS       32402     32402              32402    29661  32402   \n",
       "\n",
       "               headline_cleaned  short_description_cleaned  cleaned_words  \n",
       "category                                                                   \n",
       "ENTERTAINMENT             14754                      14754          14754  \n",
       "WELLNESS                  17922                      17922          17922  \n",
       "POLITICS                  32402                      32402          32402  "
      ]
     },
     "execution_count": 95,
     "metadata": {},
     "output_type": "execute_result"
    }
   ],
   "source": [
    " df.groupby(\"category\").count().sort_values(by=[\"link\"])"
   ]
  },
  {
   "cell_type": "markdown",
   "id": "18aef592",
   "metadata": {},
   "source": [
    "## Calculating TF-IDF"
   ]
  },
  {
   "cell_type": "code",
   "execution_count": 102,
   "id": "1987b051",
   "metadata": {},
   "outputs": [],
   "source": [
    "## Calcuate TF-IDF and create vectors\n",
    "v = TfidfVectorizer(min_df=8)\n",
    "x = v.fit_transform(df['cleaned_words'])"
   ]
  },
  {
   "cell_type": "code",
   "execution_count": 103,
   "id": "e33d2aff",
   "metadata": {},
   "outputs": [
    {
     "ename": "MemoryError",
     "evalue": "Unable to allocate 5.11 GiB for an array with shape (65078, 10536) and data type float64",
     "output_type": "error",
     "traceback": [
      "\u001b[1;31m---------------------------------------------------------------------------\u001b[0m",
      "\u001b[1;31mMemoryError\u001b[0m                               Traceback (most recent call last)",
      "Input \u001b[1;32mIn [103]\u001b[0m, in \u001b[0;36m<cell line: 2>\u001b[1;34m()\u001b[0m\n\u001b[0;32m      1\u001b[0m \u001b[38;5;66;03m## Save the list of vectors as a df, along with the words each point corresponds to\u001b[39;00m\n\u001b[1;32m----> 2\u001b[0m df_vectors \u001b[38;5;241m=\u001b[39m pd\u001b[38;5;241m.\u001b[39mDataFrame(\u001b[43mx\u001b[49m\u001b[38;5;241;43m.\u001b[39;49m\u001b[43mtoarray\u001b[49m\u001b[43m(\u001b[49m\u001b[43m)\u001b[49m, columns\u001b[38;5;241m=\u001b[39mv\u001b[38;5;241m.\u001b[39mget_feature_names_out())\n\u001b[0;32m      4\u001b[0m \u001b[38;5;66;03m## rename columns in original df \u001b[39;00m\n\u001b[0;32m      5\u001b[0m \u001b[38;5;66;03m## (it causes problems if one of the words from text is same as another column name)\u001b[39;00m\n\u001b[0;32m      6\u001b[0m df \u001b[38;5;241m=\u001b[39m df\u001b[38;5;241m.\u001b[39mrename(columns\u001b[38;5;241m=\u001b[39m{\u001b[38;5;124m\"\u001b[39m\u001b[38;5;124mlink\u001b[39m\u001b[38;5;124m\"\u001b[39m:\u001b[38;5;124m\"\u001b[39m\u001b[38;5;124mlink_col\u001b[39m\u001b[38;5;124m\"\u001b[39m, \n\u001b[0;32m      7\u001b[0m                         \u001b[38;5;124m\"\u001b[39m\u001b[38;5;124mheadline\u001b[39m\u001b[38;5;124m\"\u001b[39m:\u001b[38;5;124m\"\u001b[39m\u001b[38;5;124mheadline_col\u001b[39m\u001b[38;5;124m\"\u001b[39m, \n\u001b[0;32m      8\u001b[0m                         \u001b[38;5;124m\"\u001b[39m\u001b[38;5;124mcategory\u001b[39m\u001b[38;5;124m\"\u001b[39m:\u001b[38;5;124m\"\u001b[39m\u001b[38;5;124mcategory_col\u001b[39m\u001b[38;5;124m\"\u001b[39m,\n\u001b[0;32m      9\u001b[0m                         \u001b[38;5;124m\"\u001b[39m\u001b[38;5;124mauthors\u001b[39m\u001b[38;5;124m\"\u001b[39m:\u001b[38;5;124m\"\u001b[39m\u001b[38;5;124mauthors_col\u001b[39m\u001b[38;5;124m\"\u001b[39m, \n\u001b[0;32m     10\u001b[0m                         \u001b[38;5;124m\"\u001b[39m\u001b[38;5;124mdate\u001b[39m\u001b[38;5;124m\"\u001b[39m:\u001b[38;5;124m\"\u001b[39m\u001b[38;5;124mdate_col\u001b[39m\u001b[38;5;124m\"\u001b[39m})\n",
      "File \u001b[1;32m~\\anaconda3\\lib\\site-packages\\scipy\\sparse\\compressed.py:1039\u001b[0m, in \u001b[0;36m_cs_matrix.toarray\u001b[1;34m(self, order, out)\u001b[0m\n\u001b[0;32m   1037\u001b[0m \u001b[38;5;28;01mif\u001b[39;00m out \u001b[38;5;129;01mis\u001b[39;00m \u001b[38;5;28;01mNone\u001b[39;00m \u001b[38;5;129;01mand\u001b[39;00m order \u001b[38;5;129;01mis\u001b[39;00m \u001b[38;5;28;01mNone\u001b[39;00m:\n\u001b[0;32m   1038\u001b[0m     order \u001b[38;5;241m=\u001b[39m \u001b[38;5;28mself\u001b[39m\u001b[38;5;241m.\u001b[39m_swap(\u001b[38;5;124m'\u001b[39m\u001b[38;5;124mcf\u001b[39m\u001b[38;5;124m'\u001b[39m)[\u001b[38;5;241m0\u001b[39m]\n\u001b[1;32m-> 1039\u001b[0m out \u001b[38;5;241m=\u001b[39m \u001b[38;5;28;43mself\u001b[39;49m\u001b[38;5;241;43m.\u001b[39;49m\u001b[43m_process_toarray_args\u001b[49m\u001b[43m(\u001b[49m\u001b[43morder\u001b[49m\u001b[43m,\u001b[49m\u001b[43m \u001b[49m\u001b[43mout\u001b[49m\u001b[43m)\u001b[49m\n\u001b[0;32m   1040\u001b[0m \u001b[38;5;28;01mif\u001b[39;00m \u001b[38;5;129;01mnot\u001b[39;00m (out\u001b[38;5;241m.\u001b[39mflags\u001b[38;5;241m.\u001b[39mc_contiguous \u001b[38;5;129;01mor\u001b[39;00m out\u001b[38;5;241m.\u001b[39mflags\u001b[38;5;241m.\u001b[39mf_contiguous):\n\u001b[0;32m   1041\u001b[0m     \u001b[38;5;28;01mraise\u001b[39;00m \u001b[38;5;167;01mValueError\u001b[39;00m(\u001b[38;5;124m'\u001b[39m\u001b[38;5;124mOutput array must be C or F contiguous\u001b[39m\u001b[38;5;124m'\u001b[39m)\n",
      "File \u001b[1;32m~\\anaconda3\\lib\\site-packages\\scipy\\sparse\\base.py:1202\u001b[0m, in \u001b[0;36mspmatrix._process_toarray_args\u001b[1;34m(self, order, out)\u001b[0m\n\u001b[0;32m   1200\u001b[0m     \u001b[38;5;28;01mreturn\u001b[39;00m out\n\u001b[0;32m   1201\u001b[0m \u001b[38;5;28;01melse\u001b[39;00m:\n\u001b[1;32m-> 1202\u001b[0m     \u001b[38;5;28;01mreturn\u001b[39;00m \u001b[43mnp\u001b[49m\u001b[38;5;241;43m.\u001b[39;49m\u001b[43mzeros\u001b[49m\u001b[43m(\u001b[49m\u001b[38;5;28;43mself\u001b[39;49m\u001b[38;5;241;43m.\u001b[39;49m\u001b[43mshape\u001b[49m\u001b[43m,\u001b[49m\u001b[43m \u001b[49m\u001b[43mdtype\u001b[49m\u001b[38;5;241;43m=\u001b[39;49m\u001b[38;5;28;43mself\u001b[39;49m\u001b[38;5;241;43m.\u001b[39;49m\u001b[43mdtype\u001b[49m\u001b[43m,\u001b[49m\u001b[43m \u001b[49m\u001b[43morder\u001b[49m\u001b[38;5;241;43m=\u001b[39;49m\u001b[43morder\u001b[49m\u001b[43m)\u001b[49m\n",
      "\u001b[1;31mMemoryError\u001b[0m: Unable to allocate 5.11 GiB for an array with shape (65078, 10536) and data type float64"
     ]
    }
   ],
   "source": [
    "## Save the list of vectors as a df, along with the words each point corresponds to\n",
    "df_vectors = pd.DataFrame(x.toarray(), columns=v.get_feature_names_out())\n",
    "\n",
    "## rename columns in original df \n",
    "## (it causes problems if one of the words from text is same as another column name)\n",
    "df = df.rename(columns={\"link\":\"link_col\", \n",
    "                        \"headline\":\"headline_col\", \n",
    "                        \"category\":\"category_col\",\n",
    "                        \"authors\":\"authors_col\", \n",
    "                        \"date\":\"date_col\"})\n",
    "\n",
    "## concatenate the two dfs on the vertical axis\n",
    "whole_df = pd.concat([df, df_vectors], axis = 1)"
   ]
  },
  {
   "cell_type": "markdown",
   "id": "f2d36192",
   "metadata": {},
   "source": [
    "## Do train_test_split, save results to csv"
   ]
  },
  {
   "cell_type": "code",
   "execution_count": null,
   "id": "4795283e",
   "metadata": {},
   "outputs": [],
   "source": [
    "## Make the split\n",
    "news_train, news_test = train_test_split(whole_df,\n",
    "                                            random_state = 546,\n",
    "                                            shuffle = True,\n",
    "                                            test_size = .15,\n",
    "                                            stratify = whole_df['category_col'])"
   ]
  },
  {
   "cell_type": "code",
   "execution_count": null,
   "id": "549584bd",
   "metadata": {},
   "outputs": [],
   "source": [
    "## save to csv\n",
    "news_train.to_csv('./news_train.csv') \n",
    "news_test.to_csv('./news_test.csv') "
   ]
  }
 ],
 "metadata": {
  "kernelspec": {
   "display_name": "Python 3 (ipykernel)",
   "language": "python",
   "name": "python3"
  },
  "language_info": {
   "codemirror_mode": {
    "name": "ipython",
    "version": 3
   },
   "file_extension": ".py",
   "mimetype": "text/x-python",
   "name": "python",
   "nbconvert_exporter": "python",
   "pygments_lexer": "ipython3",
   "version": "3.9.12"
  }
 },
 "nbformat": 4,
 "nbformat_minor": 5
}
