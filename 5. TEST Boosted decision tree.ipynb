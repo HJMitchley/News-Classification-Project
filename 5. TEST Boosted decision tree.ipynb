{
 "cells": [
  {
   "cell_type": "code",
   "execution_count": 4,
   "id": "75d544de",
   "metadata": {},
   "outputs": [],
   "source": [
    "## For data handling\n",
    "import pandas as pd\n",
    "import numpy as np\n",
    "\n",
    "## For plotting\n",
    "import matplotlib.pyplot as plt\n",
    "from seaborn import set_style\n",
    "\n",
    "## This sets the plot style\n",
    "## to have a grid on a white background\n",
    "set_style(\"whitegrid\")"
   ]
  },
  {
   "cell_type": "code",
   "execution_count": 5,
   "id": "a19fe6df",
   "metadata": {},
   "outputs": [],
   "source": [
    "import xgboost"
   ]
  },
  {
   "cell_type": "code",
   "execution_count": 6,
   "id": "aa0c711b",
   "metadata": {},
   "outputs": [
    {
     "data": {
      "text/plain": [
       "'1.7.1'"
      ]
     },
     "execution_count": 6,
     "metadata": {},
     "output_type": "execute_result"
    }
   ],
   "source": [
    "xgboost.__version__"
   ]
  },
  {
   "cell_type": "code",
   "execution_count": 8,
   "id": "af7cfceb",
   "metadata": {},
   "outputs": [],
   "source": [
    "news = pd.read_pickle(\"C:/Users/HJMit/Desktop/train_PCA_cols.pkl\")"
   ]
  },
  {
   "cell_type": "code",
   "execution_count": 12,
   "id": "c4ac0370",
   "metadata": {},
   "outputs": [],
   "source": [
    "news.drop('Unnamed: 0', axis=1, inplace=True)\n",
    "news.drop('index', axis=1, inplace=True)"
   ]
  },
  {
   "cell_type": "code",
   "execution_count": 41,
   "id": "aaa1089c",
   "metadata": {},
   "outputs": [],
   "source": [
    "### One-hot encoding for category cols\n",
    "news['politics'] = 0\n",
    "news.loc[news.category_col=='POLITICS', 'politics']=1\n",
    "\n",
    "news['wellness'] = 0\n",
    "news.loc[news.category_col=='WELLNESS', 'wellness']=1\n",
    "\n",
    "news['entertainment'] = 0\n",
    "news.loc[news.category_col=='ENTERTAINMENT', 'entertainment']=1\n",
    "\n",
    "news['parenting'] = 0\n",
    "news.loc[news.category_col=='PARENTING', 'parenting']=1\n",
    "\n",
    "news['style'] = 0\n",
    "news.loc[news.category_col=='STYLE & BEAUTY', 'style']=1\n",
    "\n",
    "news['travel'] = 0\n",
    "news.loc[news.category_col=='TRAVEL', 'travel']=1\n",
    "\n",
    "news['food'] = 0\n",
    "news.loc[news.category_col=='FOOD & DRINK', 'food']=1\n",
    "\n",
    "news['queer_voices'] = 0\n",
    "news.loc[news.category_col=='QUEER VOICES', 'queer_voices']=1\n",
    "\n",
    "news['business'] = 0\n",
    "news.loc[news.category_col=='BUSINESS', 'business']=1\n",
    "\n",
    "news['sports'] = 0\n",
    "news.loc[news.category_col=='SPORTS', 'sports']=1\n",
    "\n",
    "news['black_voices'] = 0\n",
    "news.loc[news.category_col=='BLACK VOICES', 'black_voices']=1\n",
    "\n",
    "## missing category is World news"
   ]
  },
  {
   "cell_type": "code",
   "execution_count": 52,
   "id": "3d2866ad",
   "metadata": {},
   "outputs": [
    {
     "data": {
      "text/plain": [
       "Index(['politics', 'wellness', 'entertainment', 'parenting', 'style', 'travel',\n",
       "       'food', 'queer_voices', 'business', 'sports', 'black_voices'],\n",
       "      dtype='object')"
      ]
     },
     "execution_count": 52,
     "metadata": {},
     "output_type": "execute_result"
    }
   ],
   "source": [
    "cat_cols = news.columns[-11:]\n",
    "cat_cols"
   ]
  },
  {
   "cell_type": "code",
   "execution_count": 53,
   "id": "c2eae053",
   "metadata": {},
   "outputs": [
    {
     "data": {
      "text/plain": [
       "Index([   0,    1,    2,    3,    4,    5,    6,    7,    8,    9,\n",
       "       ...\n",
       "       1390, 1391, 1392, 1393, 1394, 1395, 1396, 1397, 1398, 1399],\n",
       "      dtype='object', length=1400)"
      ]
     },
     "execution_count": 53,
     "metadata": {},
     "output_type": "execute_result"
    }
   ],
   "source": [
    "### Columns which only have PCA Cols\n",
    "pca_cols  = news.columns[9:-11]\n",
    "pca_cols"
   ]
  },
  {
   "cell_type": "code",
   "execution_count": 54,
   "id": "fc820355",
   "metadata": {},
   "outputs": [],
   "source": [
    "## Train_test_split\n",
    "from sklearn.model_selection import train_test_split\n",
    "\n",
    "X_train, X_ho, y_train, y_ho = train_test_split(news[pca_cols],news[cat_cols],\n",
    "                                         random_state = 546,\n",
    "                                         shuffle = True,\n",
    "                                         test_size = .2,\n",
    "                                         stratify = news['category_col'])"
   ]
  },
  {
   "cell_type": "code",
   "execution_count": 60,
   "id": "0495f712",
   "metadata": {},
   "outputs": [
    {
     "name": "stdout",
     "output_type": "stream",
     "text": [
      "[0]\tvalidation_0-logloss:0.61572\n",
      "[1]\tvalidation_0-logloss:0.55212\n",
      "[2]\tvalidation_0-logloss:0.49924\n",
      "[3]\tvalidation_0-logloss:0.45460\n",
      "[4]\tvalidation_0-logloss:0.41655\n",
      "[5]\tvalidation_0-logloss:0.38383\n",
      "[6]\tvalidation_0-logloss:0.35550\n",
      "[7]\tvalidation_0-logloss:0.33093\n",
      "[8]\tvalidation_0-logloss:0.30942\n",
      "[9]\tvalidation_0-logloss:0.29058\n",
      "[10]\tvalidation_0-logloss:0.27411\n",
      "[11]\tvalidation_0-logloss:0.25961\n",
      "[12]\tvalidation_0-logloss:0.24676\n",
      "[13]\tvalidation_0-logloss:0.23538\n",
      "[14]\tvalidation_0-logloss:0.22529\n",
      "[15]\tvalidation_0-logloss:0.21631\n",
      "[16]\tvalidation_0-logloss:0.20838\n",
      "[17]\tvalidation_0-logloss:0.20132\n",
      "[18]\tvalidation_0-logloss:0.19499\n",
      "[19]\tvalidation_0-logloss:0.18938\n",
      "[20]\tvalidation_0-logloss:0.18443\n",
      "[21]\tvalidation_0-logloss:0.17997\n",
      "[22]\tvalidation_0-logloss:0.17601\n",
      "[23]\tvalidation_0-logloss:0.17244\n",
      "[24]\tvalidation_0-logloss:0.16929\n",
      "[25]\tvalidation_0-logloss:0.16645\n",
      "[26]\tvalidation_0-logloss:0.16390\n",
      "[27]\tvalidation_0-logloss:0.16165\n",
      "[28]\tvalidation_0-logloss:0.15964\n",
      "[29]\tvalidation_0-logloss:0.15787\n",
      "[30]\tvalidation_0-logloss:0.15635\n",
      "[31]\tvalidation_0-logloss:0.15498\n",
      "[32]\tvalidation_0-logloss:0.15373\n",
      "[33]\tvalidation_0-logloss:0.15264\n",
      "[34]\tvalidation_0-logloss:0.15167\n",
      "[35]\tvalidation_0-logloss:0.15081\n",
      "[36]\tvalidation_0-logloss:0.15005\n",
      "[37]\tvalidation_0-logloss:0.14941\n",
      "[38]\tvalidation_0-logloss:0.14887\n",
      "[39]\tvalidation_0-logloss:0.14841\n",
      "[40]\tvalidation_0-logloss:0.14801\n",
      "[41]\tvalidation_0-logloss:0.14769\n",
      "[42]\tvalidation_0-logloss:0.14743\n",
      "[43]\tvalidation_0-logloss:0.14722\n",
      "[44]\tvalidation_0-logloss:0.14704\n",
      "[45]\tvalidation_0-logloss:0.14691\n",
      "[46]\tvalidation_0-logloss:0.14681\n",
      "[47]\tvalidation_0-logloss:0.14670\n",
      "[48]\tvalidation_0-logloss:0.14667\n",
      "[49]\tvalidation_0-logloss:0.14668\n",
      "[50]\tvalidation_0-logloss:0.14674\n",
      "[51]\tvalidation_0-logloss:0.14680\n",
      "[52]\tvalidation_0-logloss:0.14683\n",
      "[53]\tvalidation_0-logloss:0.14693\n",
      "[54]\tvalidation_0-logloss:0.14709\n",
      "[55]\tvalidation_0-logloss:0.14721\n",
      "[56]\tvalidation_0-logloss:0.14728\n",
      "[57]\tvalidation_0-logloss:0.14748\n",
      "[58]\tvalidation_0-logloss:0.14765\n",
      "[59]\tvalidation_0-logloss:0.14785\n",
      "[60]\tvalidation_0-logloss:0.14810\n",
      "[61]\tvalidation_0-logloss:0.14831\n",
      "[62]\tvalidation_0-logloss:0.14853\n",
      "[63]\tvalidation_0-logloss:0.14875\n",
      "[64]\tvalidation_0-logloss:0.14899\n",
      "[65]\tvalidation_0-logloss:0.14922\n",
      "[66]\tvalidation_0-logloss:0.14946\n",
      "[67]\tvalidation_0-logloss:0.14970\n",
      "[68]\tvalidation_0-logloss:0.14992\n",
      "[69]\tvalidation_0-logloss:0.15017\n",
      "[70]\tvalidation_0-logloss:0.15041\n",
      "[71]\tvalidation_0-logloss:0.15065\n",
      "[72]\tvalidation_0-logloss:0.15093\n",
      "[73]\tvalidation_0-logloss:0.15118\n",
      "[74]\tvalidation_0-logloss:0.15145\n",
      "[75]\tvalidation_0-logloss:0.15175\n",
      "[76]\tvalidation_0-logloss:0.15196\n",
      "[77]\tvalidation_0-logloss:0.15226\n",
      "[78]\tvalidation_0-logloss:0.15254\n",
      "[79]\tvalidation_0-logloss:0.15276\n",
      "[80]\tvalidation_0-logloss:0.15301\n",
      "[81]\tvalidation_0-logloss:0.15332\n",
      "[82]\tvalidation_0-logloss:0.15359\n",
      "[83]\tvalidation_0-logloss:0.15385\n",
      "[84]\tvalidation_0-logloss:0.15411\n",
      "[85]\tvalidation_0-logloss:0.15434\n",
      "[86]\tvalidation_0-logloss:0.15457\n",
      "[87]\tvalidation_0-logloss:0.15482\n",
      "[88]\tvalidation_0-logloss:0.15507\n",
      "[89]\tvalidation_0-logloss:0.15533\n",
      "[90]\tvalidation_0-logloss:0.15555\n",
      "[91]\tvalidation_0-logloss:0.15581\n",
      "[92]\tvalidation_0-logloss:0.15607\n",
      "[93]\tvalidation_0-logloss:0.15632\n",
      "[94]\tvalidation_0-logloss:0.15656\n",
      "[95]\tvalidation_0-logloss:0.15680\n",
      "[96]\tvalidation_0-logloss:0.15705\n",
      "[97]\tvalidation_0-logloss:0.15730\n",
      "[98]\tvalidation_0-logloss:0.15755\n",
      "[99]\tvalidation_0-logloss:0.15779\n",
      "[100]\tvalidation_0-logloss:0.15804\n",
      "[101]\tvalidation_0-logloss:0.15826\n",
      "[102]\tvalidation_0-logloss:0.15849\n",
      "[103]\tvalidation_0-logloss:0.15869\n",
      "[104]\tvalidation_0-logloss:0.15894\n",
      "[105]\tvalidation_0-logloss:0.15919\n",
      "[106]\tvalidation_0-logloss:0.15943\n",
      "[107]\tvalidation_0-logloss:0.15962\n",
      "[108]\tvalidation_0-logloss:0.15985\n",
      "[109]\tvalidation_0-logloss:0.16005\n",
      "[110]\tvalidation_0-logloss:0.16025\n",
      "[111]\tvalidation_0-logloss:0.16046\n",
      "[112]\tvalidation_0-logloss:0.16067\n",
      "[113]\tvalidation_0-logloss:0.16089\n",
      "[114]\tvalidation_0-logloss:0.16109\n",
      "[115]\tvalidation_0-logloss:0.16129\n",
      "[116]\tvalidation_0-logloss:0.16148\n",
      "[117]\tvalidation_0-logloss:0.16168\n",
      "[118]\tvalidation_0-logloss:0.16188\n",
      "[119]\tvalidation_0-logloss:0.16207\n",
      "[120]\tvalidation_0-logloss:0.16225\n",
      "[121]\tvalidation_0-logloss:0.16242\n",
      "[122]\tvalidation_0-logloss:0.16260\n",
      "[123]\tvalidation_0-logloss:0.16279\n",
      "[124]\tvalidation_0-logloss:0.16299\n",
      "[125]\tvalidation_0-logloss:0.16318\n",
      "[126]\tvalidation_0-logloss:0.16334\n",
      "[127]\tvalidation_0-logloss:0.16350\n",
      "[128]\tvalidation_0-logloss:0.16369\n",
      "[129]\tvalidation_0-logloss:0.16386\n",
      "[130]\tvalidation_0-logloss:0.16402\n",
      "[131]\tvalidation_0-logloss:0.16420\n",
      "[132]\tvalidation_0-logloss:0.16436\n",
      "[133]\tvalidation_0-logloss:0.16452\n",
      "[134]\tvalidation_0-logloss:0.16468\n",
      "[135]\tvalidation_0-logloss:0.16480\n",
      "[136]\tvalidation_0-logloss:0.16493\n",
      "[137]\tvalidation_0-logloss:0.16508\n",
      "[138]\tvalidation_0-logloss:0.16523\n",
      "[139]\tvalidation_0-logloss:0.16537\n",
      "[140]\tvalidation_0-logloss:0.16553\n",
      "[141]\tvalidation_0-logloss:0.16569\n",
      "[142]\tvalidation_0-logloss:0.16586\n",
      "[143]\tvalidation_0-logloss:0.16602\n",
      "[144]\tvalidation_0-logloss:0.16617\n",
      "[145]\tvalidation_0-logloss:0.16632\n",
      "[146]\tvalidation_0-logloss:0.16647\n",
      "[147]\tvalidation_0-logloss:0.16662\n",
      "[148]\tvalidation_0-logloss:0.16677\n",
      "[149]\tvalidation_0-logloss:0.16692\n",
      "[150]\tvalidation_0-logloss:0.16707\n",
      "[151]\tvalidation_0-logloss:0.16723\n",
      "[152]\tvalidation_0-logloss:0.16737\n",
      "[153]\tvalidation_0-logloss:0.16748\n",
      "[154]\tvalidation_0-logloss:0.16761\n",
      "[155]\tvalidation_0-logloss:0.16775\n",
      "[156]\tvalidation_0-logloss:0.16788\n",
      "[157]\tvalidation_0-logloss:0.16801\n",
      "[158]\tvalidation_0-logloss:0.16819\n",
      "[159]\tvalidation_0-logloss:0.16831\n",
      "[160]\tvalidation_0-logloss:0.16842\n",
      "[161]\tvalidation_0-logloss:0.16857\n",
      "[162]\tvalidation_0-logloss:0.16869\n",
      "[163]\tvalidation_0-logloss:0.16883\n",
      "[164]\tvalidation_0-logloss:0.16896\n",
      "[165]\tvalidation_0-logloss:0.16909\n",
      "[166]\tvalidation_0-logloss:0.16919\n",
      "[167]\tvalidation_0-logloss:0.16932\n",
      "[168]\tvalidation_0-logloss:0.16945\n",
      "[169]\tvalidation_0-logloss:0.16958\n",
      "[170]\tvalidation_0-logloss:0.16971\n",
      "[171]\tvalidation_0-logloss:0.16978\n",
      "[172]\tvalidation_0-logloss:0.16990\n",
      "[173]\tvalidation_0-logloss:0.17001\n",
      "[174]\tvalidation_0-logloss:0.17009\n",
      "[175]\tvalidation_0-logloss:0.17020\n",
      "[176]\tvalidation_0-logloss:0.17031\n",
      "[177]\tvalidation_0-logloss:0.17044\n",
      "[178]\tvalidation_0-logloss:0.17057\n",
      "[179]\tvalidation_0-logloss:0.17068\n",
      "[180]\tvalidation_0-logloss:0.17077\n",
      "[181]\tvalidation_0-logloss:0.17088\n",
      "[182]\tvalidation_0-logloss:0.17100\n",
      "[183]\tvalidation_0-logloss:0.17109\n",
      "[184]\tvalidation_0-logloss:0.17119\n",
      "[185]\tvalidation_0-logloss:0.17128\n",
      "[186]\tvalidation_0-logloss:0.17138\n",
      "[187]\tvalidation_0-logloss:0.17149\n",
      "[188]\tvalidation_0-logloss:0.17157\n",
      "[189]\tvalidation_0-logloss:0.17164\n",
      "[190]\tvalidation_0-logloss:0.17175\n",
      "[191]\tvalidation_0-logloss:0.17184\n",
      "[192]\tvalidation_0-logloss:0.17196\n",
      "[193]\tvalidation_0-logloss:0.17203\n",
      "[194]\tvalidation_0-logloss:0.17211\n",
      "[195]\tvalidation_0-logloss:0.17223\n",
      "[196]\tvalidation_0-logloss:0.17233\n",
      "[197]\tvalidation_0-logloss:0.17244\n",
      "[198]\tvalidation_0-logloss:0.17252\n",
      "[199]\tvalidation_0-logloss:0.17261\n"
     ]
    },
    {
     "data": {
      "text/plain": [
       "XGBClassifier(base_score=0.5, booster='gbtree', callbacks=None,\n",
       "              colsample_bylevel=1, colsample_bynode=1, colsample_bytree=1,\n",
       "              early_stopping_rounds=None, enable_categorical=False,\n",
       "              eval_metric=None, feature_types=None, gamma=0, gpu_id=-1,\n",
       "              grow_policy='depthwise', importance_type=None,\n",
       "              interaction_constraints='', learning_rate=0.1, max_bin=256,\n",
       "              max_cat_threshold=64, max_cat_to_onehot=4, max_delta_step=0,\n",
       "              max_depth=12, max_leaves=0, min_child_weight=1, missing=nan,\n",
       "              monotone_constraints='()', n_estimators=200, n_jobs=0,\n",
       "              num_parallel_tree=1, predictor='auto', random_state=0, ...)"
      ]
     },
     "execution_count": 60,
     "metadata": {},
     "output_type": "execute_result"
    }
   ],
   "source": [
    "### Making the model\n",
    "### learning_rate=.1, max_depth=12, n_estimators=200\n",
    "xgb_cl = xgboost.XGBClassifier(learning_rate=.1,\n",
    "                                   max_depth=12,\n",
    "                                   n_estimators=200)\n",
    "\n",
    "\n",
    "## fit it\n",
    "xgb_cl.fit(X_train, y_train,\n",
    "           early_stopping_rounds = 10, ## forget to add this, so it didn't stop early\n",
    "           eval_set=[(X_ho, y_ho)])\n"
   ]
  },
  {
   "cell_type": "code",
   "execution_count": null,
   "id": "1fc675cc",
   "metadata": {},
   "outputs": [],
   "source": [
    "xgb_cl.evals_result()"
   ]
  },
  {
   "cell_type": "code",
   "execution_count": 62,
   "id": "d138f58a",
   "metadata": {},
   "outputs": [],
   "source": [
    "from sklearn.metrics import accuracy_score"
   ]
  },
  {
   "cell_type": "code",
   "execution_count": 63,
   "id": "871e0996",
   "metadata": {},
   "outputs": [
    {
     "ename": "KeyError",
     "evalue": "'rmse'",
     "output_type": "error",
     "traceback": [
      "\u001b[1;31m---------------------------------------------------------------------------\u001b[0m",
      "\u001b[1;31mKeyError\u001b[0m                                  Traceback (most recent call last)",
      "Input \u001b[1;32mIn [63]\u001b[0m, in \u001b[0;36m<cell line: 2>\u001b[1;34m()\u001b[0m\n\u001b[0;32m      1\u001b[0m \u001b[38;5;66;03m## get the 'rmse'\u001b[39;00m\n\u001b[1;32m----> 2\u001b[0m \u001b[43mxgb_cl\u001b[49m\u001b[38;5;241;43m.\u001b[39;49m\u001b[43mevals_result\u001b[49m\u001b[43m(\u001b[49m\u001b[43m)\u001b[49m\u001b[43m[\u001b[49m\u001b[38;5;124;43m'\u001b[39;49m\u001b[38;5;124;43mvalidation_0\u001b[39;49m\u001b[38;5;124;43m'\u001b[39;49m\u001b[43m]\u001b[49m\u001b[43m[\u001b[49m\u001b[38;5;124;43m'\u001b[39;49m\u001b[38;5;124;43mrmse\u001b[39;49m\u001b[38;5;124;43m'\u001b[39;49m\u001b[43m]\u001b[49m\n",
      "\u001b[1;31mKeyError\u001b[0m: 'rmse'"
     ]
    }
   ],
   "source": [
    "## get the 'rmse'\n",
    "xgb_cl.evals_result()['validation_0']['rmse']"
   ]
  },
  {
   "cell_type": "code",
   "execution_count": 66,
   "id": "24151ea9",
   "metadata": {},
   "outputs": [
    {
     "name": "stdout",
     "output_type": "stream",
     "text": [
      "Accuracy: 55.72%\n"
     ]
    }
   ],
   "source": [
    "#model.fit(X_train, y_train)\n",
    "# make predictions for test data\n",
    "y_pred = xgb_cl.predict(X_ho)\n",
    "predictions = [value for value in y_pred]\n",
    "# evaluate predictions\n",
    "accuracy = accuracy_score(y_ho, predictions)\n",
    "print(\"Accuracy: %.2f%%\" % (accuracy * 100.0))"
   ]
  },
  {
   "cell_type": "code",
   "execution_count": null,
   "id": "1289c86d",
   "metadata": {},
   "outputs": [],
   "source": []
  }
 ],
 "metadata": {
  "kernelspec": {
   "display_name": "Python 3 (ipykernel)",
   "language": "python",
   "name": "python3"
  },
  "language_info": {
   "codemirror_mode": {
    "name": "ipython",
    "version": 3
   },
   "file_extension": ".py",
   "mimetype": "text/x-python",
   "name": "python",
   "nbconvert_exporter": "python",
   "pygments_lexer": "ipython3",
   "version": "3.9.12"
  }
 },
 "nbformat": 4,
 "nbformat_minor": 5
}
